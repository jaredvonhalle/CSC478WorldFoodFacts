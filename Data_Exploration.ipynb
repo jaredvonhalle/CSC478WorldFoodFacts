{
 "cells": [
  {
   "cell_type": "code",
   "execution_count": 1,
   "metadata": {
    "collapsed": true
   },
   "outputs": [],
   "source": [
    "import numpy as np\n",
    "import pandas as pd\n",
    "import utilities as utils\n",
    "import matplotlib.pyplot as plt\n",
    "%matplotlib inline"
   ]
  },
  {
   "cell_type": "code",
   "execution_count": 2,
   "metadata": {
    "collapsed": false
   },
   "outputs": [
    {
     "name": "stderr",
     "output_type": "stream",
     "text": [
      "/Users/Jared/anaconda/lib/python2.7/site-packages/IPython/core/interactiveshell.py:2723: DtypeWarning: Columns (0,3,5,27,36) have mixed types. Specify dtype option on import or set low_memory=False.\n",
      "  interactivity=interactivity, compiler=compiler, result=result)\n"
     ]
    }
   ],
   "source": [
    "data = pd.read_csv(\"data/food.csv\")"
   ]
  },
  {
   "cell_type": "code",
   "execution_count": 3,
   "metadata": {
    "collapsed": false
   },
   "outputs": [
    {
     "name": "stdout",
     "output_type": "stream",
     "text": [
      "(65503, 159)\n"
     ]
    },
    {
     "data": {
      "text/html": [
       "<div>\n",
       "<table border=\"1\" class=\"dataframe\">\n",
       "  <thead>\n",
       "    <tr style=\"text-align: right;\">\n",
       "      <th></th>\n",
       "      <th>code</th>\n",
       "      <th>url</th>\n",
       "      <th>creator</th>\n",
       "      <th>created_t</th>\n",
       "      <th>created_datetime</th>\n",
       "      <th>last_modified_t</th>\n",
       "      <th>last_modified_datetime</th>\n",
       "      <th>product_name</th>\n",
       "      <th>generic_name</th>\n",
       "      <th>quantity</th>\n",
       "      <th>...</th>\n",
       "      <th>caffeine_100g</th>\n",
       "      <th>taurine_100g</th>\n",
       "      <th>ph_100g</th>\n",
       "      <th>fruits_vegetables_nuts_100g</th>\n",
       "      <th>collagen_meat_protein_ratio_100g</th>\n",
       "      <th>cocoa_100g</th>\n",
       "      <th>chlorophyl_100g</th>\n",
       "      <th>carbon_footprint_100g</th>\n",
       "      <th>nutrition_score_fr_100g</th>\n",
       "      <th>nutrition_score_uk_100g</th>\n",
       "    </tr>\n",
       "  </thead>\n",
       "  <tbody>\n",
       "    <tr>\n",
       "      <th>0</th>\n",
       "      <td>000000000000012866</td>\n",
       "      <td>http://world-en.openfoodfacts.org/product/0000...</td>\n",
       "      <td>date-limite-app</td>\n",
       "      <td>1447004364</td>\n",
       "      <td>2015-11-08T17:39:24Z</td>\n",
       "      <td>1447004364</td>\n",
       "      <td>2015-11-08T17:39:24Z</td>\n",
       "      <td>Poêlée à la sarladaise</td>\n",
       "      <td>NaN</td>\n",
       "      <td>NaN</td>\n",
       "      <td>...</td>\n",
       "      <td>NaN</td>\n",
       "      <td>NaN</td>\n",
       "      <td>NaN</td>\n",
       "      <td>NaN</td>\n",
       "      <td>NaN</td>\n",
       "      <td>NaN</td>\n",
       "      <td>NaN</td>\n",
       "      <td>NaN</td>\n",
       "      <td>NaN</td>\n",
       "      <td>NaN</td>\n",
       "    </tr>\n",
       "    <tr>\n",
       "      <th>1</th>\n",
       "      <td>0000000024600</td>\n",
       "      <td>http://world-en.openfoodfacts.org/product/0000...</td>\n",
       "      <td>date-limite-app</td>\n",
       "      <td>1434530704</td>\n",
       "      <td>2015-06-17T08:45:04Z</td>\n",
       "      <td>1434535914</td>\n",
       "      <td>2015-06-17T10:11:54Z</td>\n",
       "      <td>Filet de bœuf</td>\n",
       "      <td>NaN</td>\n",
       "      <td>2.46 kg</td>\n",
       "      <td>...</td>\n",
       "      <td>NaN</td>\n",
       "      <td>NaN</td>\n",
       "      <td>NaN</td>\n",
       "      <td>NaN</td>\n",
       "      <td>NaN</td>\n",
       "      <td>NaN</td>\n",
       "      <td>NaN</td>\n",
       "      <td>NaN</td>\n",
       "      <td>NaN</td>\n",
       "      <td>NaN</td>\n",
       "    </tr>\n",
       "    <tr>\n",
       "      <th>2</th>\n",
       "      <td>0000000036252</td>\n",
       "      <td>http://world-en.openfoodfacts.org/product/0000...</td>\n",
       "      <td>tacinte</td>\n",
       "      <td>1422221701</td>\n",
       "      <td>2015-01-25T21:35:01Z</td>\n",
       "      <td>1422221855</td>\n",
       "      <td>2015-01-25T21:37:35Z</td>\n",
       "      <td>Lion Peanut x2</td>\n",
       "      <td>NaN</td>\n",
       "      <td>NaN</td>\n",
       "      <td>...</td>\n",
       "      <td>NaN</td>\n",
       "      <td>NaN</td>\n",
       "      <td>NaN</td>\n",
       "      <td>NaN</td>\n",
       "      <td>NaN</td>\n",
       "      <td>NaN</td>\n",
       "      <td>NaN</td>\n",
       "      <td>NaN</td>\n",
       "      <td>NaN</td>\n",
       "      <td>NaN</td>\n",
       "    </tr>\n",
       "    <tr>\n",
       "      <th>3</th>\n",
       "      <td>0000000039259</td>\n",
       "      <td>http://world-en.openfoodfacts.org/product/0000...</td>\n",
       "      <td>tacinte</td>\n",
       "      <td>1422221773</td>\n",
       "      <td>2015-01-25T21:36:13Z</td>\n",
       "      <td>1422221926</td>\n",
       "      <td>2015-01-25T21:38:46Z</td>\n",
       "      <td>Twix x2</td>\n",
       "      <td>NaN</td>\n",
       "      <td>NaN</td>\n",
       "      <td>...</td>\n",
       "      <td>NaN</td>\n",
       "      <td>NaN</td>\n",
       "      <td>NaN</td>\n",
       "      <td>NaN</td>\n",
       "      <td>NaN</td>\n",
       "      <td>NaN</td>\n",
       "      <td>NaN</td>\n",
       "      <td>NaN</td>\n",
       "      <td>NaN</td>\n",
       "      <td>NaN</td>\n",
       "    </tr>\n",
       "    <tr>\n",
       "      <th>4</th>\n",
       "      <td>0000000039529</td>\n",
       "      <td>http://world-en.openfoodfacts.org/product/0000...</td>\n",
       "      <td>teolemon</td>\n",
       "      <td>1420147051</td>\n",
       "      <td>2015-01-01T21:17:31Z</td>\n",
       "      <td>1439141740</td>\n",
       "      <td>2015-08-09T17:35:40Z</td>\n",
       "      <td>Pack de 2 Twix</td>\n",
       "      <td>NaN</td>\n",
       "      <td>NaN</td>\n",
       "      <td>...</td>\n",
       "      <td>NaN</td>\n",
       "      <td>NaN</td>\n",
       "      <td>NaN</td>\n",
       "      <td>NaN</td>\n",
       "      <td>NaN</td>\n",
       "      <td>NaN</td>\n",
       "      <td>NaN</td>\n",
       "      <td>NaN</td>\n",
       "      <td>NaN</td>\n",
       "      <td>NaN</td>\n",
       "    </tr>\n",
       "  </tbody>\n",
       "</table>\n",
       "<p>5 rows × 159 columns</p>\n",
       "</div>"
      ],
      "text/plain": [
       "                 code                                                url  \\\n",
       "0  000000000000012866  http://world-en.openfoodfacts.org/product/0000...   \n",
       "1       0000000024600  http://world-en.openfoodfacts.org/product/0000...   \n",
       "2       0000000036252  http://world-en.openfoodfacts.org/product/0000...   \n",
       "3       0000000039259  http://world-en.openfoodfacts.org/product/0000...   \n",
       "4       0000000039529  http://world-en.openfoodfacts.org/product/0000...   \n",
       "\n",
       "           creator   created_t      created_datetime last_modified_t  \\\n",
       "0  date-limite-app  1447004364  2015-11-08T17:39:24Z      1447004364   \n",
       "1  date-limite-app  1434530704  2015-06-17T08:45:04Z      1434535914   \n",
       "2          tacinte  1422221701  2015-01-25T21:35:01Z      1422221855   \n",
       "3          tacinte  1422221773  2015-01-25T21:36:13Z      1422221926   \n",
       "4         teolemon  1420147051  2015-01-01T21:17:31Z      1439141740   \n",
       "\n",
       "  last_modified_datetime            product_name generic_name quantity  \\\n",
       "0   2015-11-08T17:39:24Z  Poêlée à la sarladaise          NaN      NaN   \n",
       "1   2015-06-17T10:11:54Z           Filet de bœuf          NaN  2.46 kg   \n",
       "2   2015-01-25T21:37:35Z          Lion Peanut x2          NaN      NaN   \n",
       "3   2015-01-25T21:38:46Z                 Twix x2          NaN      NaN   \n",
       "4   2015-08-09T17:35:40Z          Pack de 2 Twix          NaN      NaN   \n",
       "\n",
       "            ...           caffeine_100g taurine_100g ph_100g  \\\n",
       "0           ...                     NaN          NaN     NaN   \n",
       "1           ...                     NaN          NaN     NaN   \n",
       "2           ...                     NaN          NaN     NaN   \n",
       "3           ...                     NaN          NaN     NaN   \n",
       "4           ...                     NaN          NaN     NaN   \n",
       "\n",
       "  fruits_vegetables_nuts_100g collagen_meat_protein_ratio_100g cocoa_100g  \\\n",
       "0                         NaN                              NaN        NaN   \n",
       "1                         NaN                              NaN        NaN   \n",
       "2                         NaN                              NaN        NaN   \n",
       "3                         NaN                              NaN        NaN   \n",
       "4                         NaN                              NaN        NaN   \n",
       "\n",
       "  chlorophyl_100g carbon_footprint_100g nutrition_score_fr_100g  \\\n",
       "0             NaN                   NaN                     NaN   \n",
       "1             NaN                   NaN                     NaN   \n",
       "2             NaN                   NaN                     NaN   \n",
       "3             NaN                   NaN                     NaN   \n",
       "4             NaN                   NaN                     NaN   \n",
       "\n",
       "  nutrition_score_uk_100g  \n",
       "0                     NaN  \n",
       "1                     NaN  \n",
       "2                     NaN  \n",
       "3                     NaN  \n",
       "4                     NaN  \n",
       "\n",
       "[5 rows x 159 columns]"
      ]
     },
     "execution_count": 3,
     "metadata": {},
     "output_type": "execute_result"
    }
   ],
   "source": [
    "print data.shape\n",
    "data.head()"
   ]
  },
  {
   "cell_type": "code",
   "execution_count": 4,
   "metadata": {
    "collapsed": false
   },
   "outputs": [
    {
     "name": "stdout",
     "output_type": "stream",
     "text": [
      "(2508, 159)\n"
     ]
    }
   ],
   "source": [
    "usa_data = utils.getByCountry(data, 'United States')\n",
    "print usa_data.shape"
   ]
  },
  {
   "cell_type": "code",
   "execution_count": 5,
   "metadata": {
    "collapsed": false
   },
   "outputs": [
    {
     "data": {
      "text/html": [
       "<div>\n",
       "<table border=\"1\" class=\"dataframe\">\n",
       "  <thead>\n",
       "    <tr style=\"text-align: right;\">\n",
       "      <th></th>\n",
       "      <th>no_nutriments</th>\n",
       "      <th>additives_n</th>\n",
       "      <th>ingredients_from_palm_oil_n</th>\n",
       "      <th>ingredients_from_palm_oil</th>\n",
       "      <th>ingredients_that_may_be_from_palm_oil_n</th>\n",
       "      <th>ingredients_that_may_be_from_palm_oil</th>\n",
       "      <th>nutrition_grade_uk</th>\n",
       "      <th>energy_100g</th>\n",
       "      <th>energy_from_fat_100g</th>\n",
       "      <th>fat_100g</th>\n",
       "      <th>...</th>\n",
       "      <th>caffeine_100g</th>\n",
       "      <th>taurine_100g</th>\n",
       "      <th>ph_100g</th>\n",
       "      <th>fruits_vegetables_nuts_100g</th>\n",
       "      <th>collagen_meat_protein_ratio_100g</th>\n",
       "      <th>cocoa_100g</th>\n",
       "      <th>chlorophyl_100g</th>\n",
       "      <th>carbon_footprint_100g</th>\n",
       "      <th>nutrition_score_fr_100g</th>\n",
       "      <th>nutrition_score_uk_100g</th>\n",
       "    </tr>\n",
       "  </thead>\n",
       "  <tbody>\n",
       "    <tr>\n",
       "      <th>count</th>\n",
       "      <td>0.0</td>\n",
       "      <td>1052.000000</td>\n",
       "      <td>1052.000000</td>\n",
       "      <td>0.0</td>\n",
       "      <td>1052.000000</td>\n",
       "      <td>0.0</td>\n",
       "      <td>0.0</td>\n",
       "      <td>1189.000000</td>\n",
       "      <td>727.000000</td>\n",
       "      <td>1202.000000</td>\n",
       "      <td>...</td>\n",
       "      <td>4.000000</td>\n",
       "      <td>0.0</td>\n",
       "      <td>0.0</td>\n",
       "      <td>3.000000</td>\n",
       "      <td>0.0</td>\n",
       "      <td>1.0</td>\n",
       "      <td>0.0</td>\n",
       "      <td>2.000000</td>\n",
       "      <td>1026.000000</td>\n",
       "      <td>1026.000000</td>\n",
       "    </tr>\n",
       "    <tr>\n",
       "      <th>mean</th>\n",
       "      <td>NaN</td>\n",
       "      <td>2.180608</td>\n",
       "      <td>0.000951</td>\n",
       "      <td>NaN</td>\n",
       "      <td>0.021863</td>\n",
       "      <td>NaN</td>\n",
       "      <td>NaN</td>\n",
       "      <td>1176.289537</td>\n",
       "      <td>579.689216</td>\n",
       "      <td>13.638052</td>\n",
       "      <td>...</td>\n",
       "      <td>0.013477</td>\n",
       "      <td>NaN</td>\n",
       "      <td>NaN</td>\n",
       "      <td>33.333333</td>\n",
       "      <td>NaN</td>\n",
       "      <td>60.0</td>\n",
       "      <td>NaN</td>\n",
       "      <td>68.500000</td>\n",
       "      <td>9.060429</td>\n",
       "      <td>8.935673</td>\n",
       "    </tr>\n",
       "    <tr>\n",
       "      <th>std</th>\n",
       "      <td>NaN</td>\n",
       "      <td>2.779168</td>\n",
       "      <td>0.030831</td>\n",
       "      <td>NaN</td>\n",
       "      <td>0.146306</td>\n",
       "      <td>NaN</td>\n",
       "      <td>NaN</td>\n",
       "      <td>834.188753</td>\n",
       "      <td>696.134198</td>\n",
       "      <td>18.230727</td>\n",
       "      <td>...</td>\n",
       "      <td>0.005561</td>\n",
       "      <td>NaN</td>\n",
       "      <td>NaN</td>\n",
       "      <td>31.754265</td>\n",
       "      <td>NaN</td>\n",
       "      <td>NaN</td>\n",
       "      <td>NaN</td>\n",
       "      <td>79.903066</td>\n",
       "      <td>9.135097</td>\n",
       "      <td>9.348419</td>\n",
       "    </tr>\n",
       "    <tr>\n",
       "      <th>min</th>\n",
       "      <td>NaN</td>\n",
       "      <td>0.000000</td>\n",
       "      <td>0.000000</td>\n",
       "      <td>NaN</td>\n",
       "      <td>0.000000</td>\n",
       "      <td>NaN</td>\n",
       "      <td>NaN</td>\n",
       "      <td>0.000000</td>\n",
       "      <td>0.000000</td>\n",
       "      <td>0.000000</td>\n",
       "      <td>...</td>\n",
       "      <td>0.007830</td>\n",
       "      <td>NaN</td>\n",
       "      <td>NaN</td>\n",
       "      <td>15.000000</td>\n",
       "      <td>NaN</td>\n",
       "      <td>60.0</td>\n",
       "      <td>NaN</td>\n",
       "      <td>12.000000</td>\n",
       "      <td>-10.000000</td>\n",
       "      <td>-10.000000</td>\n",
       "    </tr>\n",
       "    <tr>\n",
       "      <th>25%</th>\n",
       "      <td>NaN</td>\n",
       "      <td>0.000000</td>\n",
       "      <td>0.000000</td>\n",
       "      <td>NaN</td>\n",
       "      <td>0.000000</td>\n",
       "      <td>NaN</td>\n",
       "      <td>NaN</td>\n",
       "      <td>328.000000</td>\n",
       "      <td>43.800000</td>\n",
       "      <td>0.000000</td>\n",
       "      <td>...</td>\n",
       "      <td>0.009143</td>\n",
       "      <td>NaN</td>\n",
       "      <td>NaN</td>\n",
       "      <td>15.000000</td>\n",
       "      <td>NaN</td>\n",
       "      <td>60.0</td>\n",
       "      <td>NaN</td>\n",
       "      <td>40.250000</td>\n",
       "      <td>0.000000</td>\n",
       "      <td>0.000000</td>\n",
       "    </tr>\n",
       "    <tr>\n",
       "      <th>50%</th>\n",
       "      <td>NaN</td>\n",
       "      <td>1.000000</td>\n",
       "      <td>0.000000</td>\n",
       "      <td>NaN</td>\n",
       "      <td>0.000000</td>\n",
       "      <td>NaN</td>\n",
       "      <td>NaN</td>\n",
       "      <td>1290.000000</td>\n",
       "      <td>300.000000</td>\n",
       "      <td>6.250000</td>\n",
       "      <td>...</td>\n",
       "      <td>0.013790</td>\n",
       "      <td>NaN</td>\n",
       "      <td>NaN</td>\n",
       "      <td>15.000000</td>\n",
       "      <td>NaN</td>\n",
       "      <td>60.0</td>\n",
       "      <td>NaN</td>\n",
       "      <td>68.500000</td>\n",
       "      <td>10.000000</td>\n",
       "      <td>9.000000</td>\n",
       "    </tr>\n",
       "    <tr>\n",
       "      <th>75%</th>\n",
       "      <td>NaN</td>\n",
       "      <td>3.000000</td>\n",
       "      <td>0.000000</td>\n",
       "      <td>NaN</td>\n",
       "      <td>0.000000</td>\n",
       "      <td>NaN</td>\n",
       "      <td>NaN</td>\n",
       "      <td>1790.000000</td>\n",
       "      <td>917.000000</td>\n",
       "      <td>21.400000</td>\n",
       "      <td>...</td>\n",
       "      <td>0.018125</td>\n",
       "      <td>NaN</td>\n",
       "      <td>NaN</td>\n",
       "      <td>42.500000</td>\n",
       "      <td>NaN</td>\n",
       "      <td>60.0</td>\n",
       "      <td>NaN</td>\n",
       "      <td>96.750000</td>\n",
       "      <td>16.000000</td>\n",
       "      <td>17.000000</td>\n",
       "    </tr>\n",
       "    <tr>\n",
       "      <th>max</th>\n",
       "      <td>NaN</td>\n",
       "      <td>17.000000</td>\n",
       "      <td>1.000000</td>\n",
       "      <td>NaN</td>\n",
       "      <td>1.000000</td>\n",
       "      <td>NaN</td>\n",
       "      <td>NaN</td>\n",
       "      <td>3766.000000</td>\n",
       "      <td>3740.000000</td>\n",
       "      <td>100.000000</td>\n",
       "      <td>...</td>\n",
       "      <td>0.018500</td>\n",
       "      <td>NaN</td>\n",
       "      <td>NaN</td>\n",
       "      <td>70.000000</td>\n",
       "      <td>NaN</td>\n",
       "      <td>60.0</td>\n",
       "      <td>NaN</td>\n",
       "      <td>125.000000</td>\n",
       "      <td>29.000000</td>\n",
       "      <td>29.000000</td>\n",
       "    </tr>\n",
       "  </tbody>\n",
       "</table>\n",
       "<p>8 rows × 103 columns</p>\n",
       "</div>"
      ],
      "text/plain": [
       "       no_nutriments  additives_n  ingredients_from_palm_oil_n  \\\n",
       "count            0.0  1052.000000                  1052.000000   \n",
       "mean             NaN     2.180608                     0.000951   \n",
       "std              NaN     2.779168                     0.030831   \n",
       "min              NaN     0.000000                     0.000000   \n",
       "25%              NaN     0.000000                     0.000000   \n",
       "50%              NaN     1.000000                     0.000000   \n",
       "75%              NaN     3.000000                     0.000000   \n",
       "max              NaN    17.000000                     1.000000   \n",
       "\n",
       "       ingredients_from_palm_oil  ingredients_that_may_be_from_palm_oil_n  \\\n",
       "count                        0.0                              1052.000000   \n",
       "mean                         NaN                                 0.021863   \n",
       "std                          NaN                                 0.146306   \n",
       "min                          NaN                                 0.000000   \n",
       "25%                          NaN                                 0.000000   \n",
       "50%                          NaN                                 0.000000   \n",
       "75%                          NaN                                 0.000000   \n",
       "max                          NaN                                 1.000000   \n",
       "\n",
       "       ingredients_that_may_be_from_palm_oil  nutrition_grade_uk  energy_100g  \\\n",
       "count                                    0.0                 0.0  1189.000000   \n",
       "mean                                     NaN                 NaN  1176.289537   \n",
       "std                                      NaN                 NaN   834.188753   \n",
       "min                                      NaN                 NaN     0.000000   \n",
       "25%                                      NaN                 NaN   328.000000   \n",
       "50%                                      NaN                 NaN  1290.000000   \n",
       "75%                                      NaN                 NaN  1790.000000   \n",
       "max                                      NaN                 NaN  3766.000000   \n",
       "\n",
       "       energy_from_fat_100g     fat_100g           ...             \\\n",
       "count            727.000000  1202.000000           ...              \n",
       "mean             579.689216    13.638052           ...              \n",
       "std              696.134198    18.230727           ...              \n",
       "min                0.000000     0.000000           ...              \n",
       "25%               43.800000     0.000000           ...              \n",
       "50%              300.000000     6.250000           ...              \n",
       "75%              917.000000    21.400000           ...              \n",
       "max             3740.000000   100.000000           ...              \n",
       "\n",
       "       caffeine_100g  taurine_100g  ph_100g  fruits_vegetables_nuts_100g  \\\n",
       "count       4.000000           0.0      0.0                     3.000000   \n",
       "mean        0.013477           NaN      NaN                    33.333333   \n",
       "std         0.005561           NaN      NaN                    31.754265   \n",
       "min         0.007830           NaN      NaN                    15.000000   \n",
       "25%         0.009143           NaN      NaN                    15.000000   \n",
       "50%         0.013790           NaN      NaN                    15.000000   \n",
       "75%         0.018125           NaN      NaN                    42.500000   \n",
       "max         0.018500           NaN      NaN                    70.000000   \n",
       "\n",
       "       collagen_meat_protein_ratio_100g  cocoa_100g  chlorophyl_100g  \\\n",
       "count                               0.0         1.0              0.0   \n",
       "mean                                NaN        60.0              NaN   \n",
       "std                                 NaN         NaN              NaN   \n",
       "min                                 NaN        60.0              NaN   \n",
       "25%                                 NaN        60.0              NaN   \n",
       "50%                                 NaN        60.0              NaN   \n",
       "75%                                 NaN        60.0              NaN   \n",
       "max                                 NaN        60.0              NaN   \n",
       "\n",
       "       carbon_footprint_100g  nutrition_score_fr_100g  nutrition_score_uk_100g  \n",
       "count               2.000000              1026.000000              1026.000000  \n",
       "mean               68.500000                 9.060429                 8.935673  \n",
       "std                79.903066                 9.135097                 9.348419  \n",
       "min                12.000000               -10.000000               -10.000000  \n",
       "25%                40.250000                 0.000000                 0.000000  \n",
       "50%                68.500000                10.000000                 9.000000  \n",
       "75%                96.750000                16.000000                17.000000  \n",
       "max               125.000000                29.000000                29.000000  \n",
       "\n",
       "[8 rows x 103 columns]"
      ]
     },
     "execution_count": 5,
     "metadata": {},
     "output_type": "execute_result"
    }
   ],
   "source": [
    "usa_data.describe()"
   ]
  },
  {
   "cell_type": "markdown",
   "metadata": {},
   "source": [
    "### What is the most sugary food in the USA?"
   ]
  },
  {
   "cell_type": "code",
   "execution_count": 6,
   "metadata": {
    "collapsed": false
   },
   "outputs": [
    {
     "data": {
      "text/html": [
       "<div>\n",
       "<table border=\"1\" class=\"dataframe\">\n",
       "  <thead>\n",
       "    <tr style=\"text-align: right;\">\n",
       "      <th></th>\n",
       "      <th>code</th>\n",
       "      <th>url</th>\n",
       "      <th>creator</th>\n",
       "      <th>created_t</th>\n",
       "      <th>created_datetime</th>\n",
       "      <th>last_modified_t</th>\n",
       "      <th>last_modified_datetime</th>\n",
       "      <th>product_name</th>\n",
       "      <th>generic_name</th>\n",
       "      <th>quantity</th>\n",
       "      <th>...</th>\n",
       "      <th>caffeine_100g</th>\n",
       "      <th>taurine_100g</th>\n",
       "      <th>ph_100g</th>\n",
       "      <th>fruits_vegetables_nuts_100g</th>\n",
       "      <th>collagen_meat_protein_ratio_100g</th>\n",
       "      <th>cocoa_100g</th>\n",
       "      <th>chlorophyl_100g</th>\n",
       "      <th>carbon_footprint_100g</th>\n",
       "      <th>nutrition_score_fr_100g</th>\n",
       "      <th>nutrition_score_uk_100g</th>\n",
       "    </tr>\n",
       "  </thead>\n",
       "  <tbody>\n",
       "    <tr>\n",
       "      <th>47379</th>\n",
       "      <td>4902124680235</td>\n",
       "      <td>http://world-en.openfoodfacts.org/product/4902...</td>\n",
       "      <td>stephane</td>\n",
       "      <td>1438876475</td>\n",
       "      <td>2015-08-06T15:54:35Z</td>\n",
       "      <td>1439069028</td>\n",
       "      <td>2015-08-08T21:23:48Z</td>\n",
       "      <td>Super Lemon</td>\n",
       "      <td>Lemon candy</td>\n",
       "      <td>2.92 oz (83 g)</td>\n",
       "      <td>...</td>\n",
       "      <td>NaN</td>\n",
       "      <td>NaN</td>\n",
       "      <td>NaN</td>\n",
       "      <td>NaN</td>\n",
       "      <td>NaN</td>\n",
       "      <td>NaN</td>\n",
       "      <td>NaN</td>\n",
       "      <td>NaN</td>\n",
       "      <td>14.0</td>\n",
       "      <td>14.0</td>\n",
       "    </tr>\n",
       "  </tbody>\n",
       "</table>\n",
       "<p>1 rows × 159 columns</p>\n",
       "</div>"
      ],
      "text/plain": [
       "                code                                                url  \\\n",
       "47379  4902124680235  http://world-en.openfoodfacts.org/product/4902...   \n",
       "\n",
       "        creator   created_t      created_datetime last_modified_t  \\\n",
       "47379  stephane  1438876475  2015-08-06T15:54:35Z      1439069028   \n",
       "\n",
       "      last_modified_datetime product_name generic_name        quantity  \\\n",
       "47379   2015-08-08T21:23:48Z  Super Lemon  Lemon candy  2.92 oz (83 g)   \n",
       "\n",
       "                ...           caffeine_100g taurine_100g ph_100g  \\\n",
       "47379           ...                     NaN          NaN     NaN   \n",
       "\n",
       "      fruits_vegetables_nuts_100g collagen_meat_protein_ratio_100g cocoa_100g  \\\n",
       "47379                         NaN                              NaN        NaN   \n",
       "\n",
       "      chlorophyl_100g carbon_footprint_100g nutrition_score_fr_100g  \\\n",
       "47379             NaN                   NaN                    14.0   \n",
       "\n",
       "      nutrition_score_uk_100g  \n",
       "47379                    14.0  \n",
       "\n",
       "[1 rows x 159 columns]"
      ]
     },
     "execution_count": 6,
     "metadata": {},
     "output_type": "execute_result"
    }
   ],
   "source": [
    "sugar = usa_data.sugars_100g[usa_data.sugars_100g.notnull()]\n",
    "most_sugar = sugar.sort_values(ascending=False)\n",
    "usa_data[usa_data.sugars_100g >= most_sugar.iloc[0]]"
   ]
  },
  {
   "cell_type": "markdown",
   "metadata": {
    "collapsed": true
   },
   "source": [
    "### Compare countries by average of different nutriments"
   ]
  },
  {
   "cell_type": "code",
   "execution_count": 7,
   "metadata": {
    "collapsed": true
   },
   "outputs": [],
   "source": [
    "unique_countries = utils.getUniqueCountries(data)"
   ]
  },
  {
   "cell_type": "code",
   "execution_count": 8,
   "metadata": {
    "collapsed": false
   },
   "outputs": [
    {
     "data": {
      "text/plain": [
       "<matplotlib.axes._subplots.AxesSubplot at 0x102081610>"
      ]
     },
     "execution_count": 8,
     "metadata": {},
     "output_type": "execute_result"
    },
    {
     "data": {
      "image/png": "[encoded data removed]",
      "text/plain": [
       "<matplotlib.figure.Figure at 0x102089fd0>"
      ]
     },
     "metadata": {},
     "output_type": "display_data"
    }
   ],
   "source": [
    "sugar_avg = utils.compareCountriesByNutrimentAverage(data, unique_countries, 'sugars_100g')\n",
    "p = sugar_avg.plot(kind='bar', legend=False, title='Average Sugars_100g By Country (w/ Sample Size > 30)')\n",
    "p.set_xlabel(\"Country\")\n",
    "p.set_ylabel(\"Grams\")\n",
    "p"
   ]
  },
  {
   "cell_type": "code",
   "execution_count": 14,
   "metadata": {
    "collapsed": false
   },
   "outputs": [
    {
     "data": {
      "text/plain": [
       "<matplotlib.axes._subplots.AxesSubplot at 0x129e0a0d0>"
      ]
     },
     "execution_count": 14,
     "metadata": {},
     "output_type": "execute_result"
    },
    {
     "data": {
      "image/png": "[encoded data removed]",
      "text/plain": [
       "<matplotlib.figure.Figure at 0x129ea6790>"
      ]
     },
     "metadata": {},
     "output_type": "display_data"
    }
   ],
   "source": [
    "energy_avg = utils.compareCountriesByNutrimentAverage(data, unique_countries, 'energy_100g')\n",
    "p = energy_avg.plot(kind='bar', legend=False, title='Average Energy_100g By Country (w/ Sample Size > 30)')\n",
    "p.set_xlabel(\"Country\")\n",
    "p.set_ylabel(\"Grams\")\n",
    "p"
   ]
  },
  {
   "cell_type": "code",
   "execution_count": 15,
   "metadata": {
    "collapsed": false
   },
   "outputs": [
    {
     "data": {
      "text/plain": [
       "<matplotlib.axes._subplots.AxesSubplot at 0x12a825c90>"
      ]
     },
     "execution_count": 15,
     "metadata": {},
     "output_type": "execute_result"
    },
    {
     "data": {
      "image/png": "[encoded data removed]",
      "text/plain": [
       "<matplotlib.figure.Figure at 0x12a6a3510>"
      ]
     },
     "metadata": {},
     "output_type": "display_data"
    }
   ],
   "source": [
    "sodium_avg = utils.compareCountriesByNutrimentAverage(data, unique_countries, 'sodium_100g')\n",
    "p = sodium_avg.plot(kind='bar', legend=False, title='Average Sodium_100g By Country (w/ Sample Size > 30)')\n",
    "p.set_xlabel(\"Country\")\n",
    "p.set_ylabel(\"Grams\")\n",
    "p"
   ]
  },
  {
   "cell_type": "code",
   "execution_count": 16,
   "metadata": {
    "collapsed": false
   },
   "outputs": [
    {
     "data": {
      "text/plain": [
       "<matplotlib.axes._subplots.AxesSubplot at 0x12964f650>"
      ]
     },
     "execution_count": 16,
     "metadata": {},
     "output_type": "execute_result"
    },
    {
     "data": {
      "image/png": "[encoded data removed]",
      "text/plain": [
       "<matplotlib.figure.Figure at 0x12aa03290>"
      ]
     },
     "metadata": {},
     "output_type": "display_data"
    }
   ],
   "source": [
    "fat_100g = utils.compareCountriesByNutrimentAverage(data, unique_countries, 'fat_100g')\n",
    "p = fat_100g.plot(kind='bar', legend=False, title='Average Fat_100g By Country (w/ Sample Size > 30)')\n",
    "p.set_xlabel(\"Country\")\n",
    "p.set_ylabel(\"Grams\")\n",
    "p"
   ]
  },
  {
   "cell_type": "code",
   "execution_count": 17,
   "metadata": {
    "collapsed": false
   },
   "outputs": [
    {
     "data": {
      "text/plain": [
       "<matplotlib.axes._subplots.AxesSubplot at 0x12ad55450>"
      ]
     },
     "execution_count": 17,
     "metadata": {},
     "output_type": "execute_result"
    },
    {
     "data": {
      "image/png": "[encoded data removed]",
      "text/plain": [
       "<matplotlib.figure.Figure at 0x12ad690d0>"
      ]
     },
     "metadata": {},
     "output_type": "display_data"
    }
   ],
   "source": [
    "proteins_100g = utils.compareCountriesByNutrimentAverage(data, unique_countries, 'proteins_100g')\n",
    "p = proteins_100g.plot(kind='bar', legend=False, title='Average Proteins_100g By Country (w/ Sample Size > 30)')\n",
    "p.set_xlabel(\"Country\")\n",
    "p.set_ylabel(\"Grams\")\n",
    "p"
   ]
  },
  {
   "cell_type": "code",
   "execution_count": 18,
   "metadata": {
    "collapsed": false
   },
   "outputs": [
    {
     "data": {
      "text/plain": [
       "<matplotlib.axes._subplots.AxesSubplot at 0x12b29c390>"
      ]
     },
     "execution_count": 18,
     "metadata": {},
     "output_type": "execute_result"
    },
    {
     "data": {
      "image/png": "[encoded data removed]",
      "text/plain": [
       "<matplotlib.figure.Figure at 0x12b08fb90>"
      ]
     },
     "metadata": {},
     "output_type": "display_data"
    }
   ],
   "source": [
    "carbohydrates_100g = utils.compareCountriesByNutrimentAverage(data, unique_countries, 'carbohydrates_100g')\n",
    "p = carbohydrates_100g.plot(kind='bar', legend=False, title='Average Carbohydrates_100g By Country (w/ Sample Size > 30)')\n",
    "p.set_xlabel(\"Country\")\n",
    "p.set_ylabel(\"Grams\")\n",
    "p"
   ]
  },
  {
   "cell_type": "code",
   "execution_count": null,
   "metadata": {
    "collapsed": true
   },
   "outputs": [],
   "source": []
  }
 ],
 "metadata": {
  "kernelspec": {
   "display_name": "Python 2",
   "language": "python",
   "name": "python2"
  },
  "language_info": {
   "codemirror_mode": {
    "name": "ipython",
    "version": 2
   },
   "file_extension": ".py",
   "mimetype": "text/x-python",
   "name": "python",
   "nbconvert_exporter": "python",
   "pygments_lexer": "ipython2",
   "version": "2.7.11"
  }
 },
 "nbformat": 4,
 "nbformat_minor": 0
}
