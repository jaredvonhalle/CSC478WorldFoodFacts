{
 "cells": [
  {
   "cell_type": "code",
   "execution_count": 1,
   "metadata": {
    "collapsed": true
   },
   "outputs": [],
   "source": [
    "import numpy as np\n",
    "import pandas as pd\n",
    "import matplotlib.pyplot as plt\n",
    "%matplotlib inline\n",
    "\n",
    "from lib import utilities as utils"
   ]
  },
  {
   "cell_type": "code",
   "execution_count": 2,
   "metadata": {
    "collapsed": false
   },
   "outputs": [
    {
     "name": "stderr",
     "output_type": "stream",
     "text": [
      "/Applications/anaconda/lib/python2.7/site-packages/IPython/core/interactiveshell.py:2723: DtypeWarning: Columns (0,3,5,27,36) have mixed types. Specify dtype option on import or set low_memory=False.\n",
      "  interactivity=interactivity, compiler=compiler, result=result)\n"
     ]
    }
   ],
   "source": [
    "data = pd.read_csv(\"world-food-facts/FoodFacts.csv\")"
   ]
  },
  {
   "cell_type": "code",
   "execution_count": 3,
   "metadata": {
    "collapsed": false
   },
   "outputs": [
    {
     "name": "stdout",
     "output_type": "stream",
     "text": [
      "(65503, 159)\n"
     ]
    },
    {
     "data": {
      "text/html": [
       "<div>\n",
       "<table border=\"1\" class=\"dataframe\">\n",
       "  <thead>\n",
       "    <tr style=\"text-align: right;\">\n",
       "      <th></th>\n",
       "      <th>code</th>\n",
       "      <th>url</th>\n",
       "      <th>creator</th>\n",
       "      <th>created_t</th>\n",
       "      <th>created_datetime</th>\n",
       "      <th>last_modified_t</th>\n",
       "      <th>last_modified_datetime</th>\n",
       "      <th>product_name</th>\n",
       "      <th>generic_name</th>\n",
       "      <th>quantity</th>\n",
       "      <th>...</th>\n",
       "      <th>caffeine_100g</th>\n",
       "      <th>taurine_100g</th>\n",
       "      <th>ph_100g</th>\n",
       "      <th>fruits_vegetables_nuts_100g</th>\n",
       "      <th>collagen_meat_protein_ratio_100g</th>\n",
       "      <th>cocoa_100g</th>\n",
       "      <th>chlorophyl_100g</th>\n",
       "      <th>carbon_footprint_100g</th>\n",
       "      <th>nutrition_score_fr_100g</th>\n",
       "      <th>nutrition_score_uk_100g</th>\n",
       "    </tr>\n",
       "  </thead>\n",
       "  <tbody>\n",
       "    <tr>\n",
       "      <th>0</th>\n",
       "      <td>000000000000012866</td>\n",
       "      <td>http://world-en.openfoodfacts.org/product/0000...</td>\n",
       "      <td>date-limite-app</td>\n",
       "      <td>1447004364</td>\n",
       "      <td>2015-11-08T17:39:24Z</td>\n",
       "      <td>1447004364</td>\n",
       "      <td>2015-11-08T17:39:24Z</td>\n",
       "      <td>Poêlée à la sarladaise</td>\n",
       "      <td>NaN</td>\n",
       "      <td>NaN</td>\n",
       "      <td>...</td>\n",
       "      <td>NaN</td>\n",
       "      <td>NaN</td>\n",
       "      <td>NaN</td>\n",
       "      <td>NaN</td>\n",
       "      <td>NaN</td>\n",
       "      <td>NaN</td>\n",
       "      <td>NaN</td>\n",
       "      <td>NaN</td>\n",
       "      <td>NaN</td>\n",
       "      <td>NaN</td>\n",
       "    </tr>\n",
       "    <tr>\n",
       "      <th>1</th>\n",
       "      <td>0000000024600</td>\n",
       "      <td>http://world-en.openfoodfacts.org/product/0000...</td>\n",
       "      <td>date-limite-app</td>\n",
       "      <td>1434530704</td>\n",
       "      <td>2015-06-17T08:45:04Z</td>\n",
       "      <td>1434535914</td>\n",
       "      <td>2015-06-17T10:11:54Z</td>\n",
       "      <td>Filet de bœuf</td>\n",
       "      <td>NaN</td>\n",
       "      <td>2.46 kg</td>\n",
       "      <td>...</td>\n",
       "      <td>NaN</td>\n",
       "      <td>NaN</td>\n",
       "      <td>NaN</td>\n",
       "      <td>NaN</td>\n",
       "      <td>NaN</td>\n",
       "      <td>NaN</td>\n",
       "      <td>NaN</td>\n",
       "      <td>NaN</td>\n",
       "      <td>NaN</td>\n",
       "      <td>NaN</td>\n",
       "    </tr>\n",
       "    <tr>\n",
       "      <th>2</th>\n",
       "      <td>0000000036252</td>\n",
       "      <td>http://world-en.openfoodfacts.org/product/0000...</td>\n",
       "      <td>tacinte</td>\n",
       "      <td>1422221701</td>\n",
       "      <td>2015-01-25T21:35:01Z</td>\n",
       "      <td>1422221855</td>\n",
       "      <td>2015-01-25T21:37:35Z</td>\n",
       "      <td>Lion Peanut x2</td>\n",
       "      <td>NaN</td>\n",
       "      <td>NaN</td>\n",
       "      <td>...</td>\n",
       "      <td>NaN</td>\n",
       "      <td>NaN</td>\n",
       "      <td>NaN</td>\n",
       "      <td>NaN</td>\n",
       "      <td>NaN</td>\n",
       "      <td>NaN</td>\n",
       "      <td>NaN</td>\n",
       "      <td>NaN</td>\n",
       "      <td>NaN</td>\n",
       "      <td>NaN</td>\n",
       "    </tr>\n",
       "    <tr>\n",
       "      <th>3</th>\n",
       "      <td>0000000039259</td>\n",
       "      <td>http://world-en.openfoodfacts.org/product/0000...</td>\n",
       "      <td>tacinte</td>\n",
       "      <td>1422221773</td>\n",
       "      <td>2015-01-25T21:36:13Z</td>\n",
       "      <td>1422221926</td>\n",
       "      <td>2015-01-25T21:38:46Z</td>\n",
       "      <td>Twix x2</td>\n",
       "      <td>NaN</td>\n",
       "      <td>NaN</td>\n",
       "      <td>...</td>\n",
       "      <td>NaN</td>\n",
       "      <td>NaN</td>\n",
       "      <td>NaN</td>\n",
       "      <td>NaN</td>\n",
       "      <td>NaN</td>\n",
       "      <td>NaN</td>\n",
       "      <td>NaN</td>\n",
       "      <td>NaN</td>\n",
       "      <td>NaN</td>\n",
       "      <td>NaN</td>\n",
       "    </tr>\n",
       "    <tr>\n",
       "      <th>4</th>\n",
       "      <td>0000000039529</td>\n",
       "      <td>http://world-en.openfoodfacts.org/product/0000...</td>\n",
       "      <td>teolemon</td>\n",
       "      <td>1420147051</td>\n",
       "      <td>2015-01-01T21:17:31Z</td>\n",
       "      <td>1439141740</td>\n",
       "      <td>2015-08-09T17:35:40Z</td>\n",
       "      <td>Pack de 2 Twix</td>\n",
       "      <td>NaN</td>\n",
       "      <td>NaN</td>\n",
       "      <td>...</td>\n",
       "      <td>NaN</td>\n",
       "      <td>NaN</td>\n",
       "      <td>NaN</td>\n",
       "      <td>NaN</td>\n",
       "      <td>NaN</td>\n",
       "      <td>NaN</td>\n",
       "      <td>NaN</td>\n",
       "      <td>NaN</td>\n",
       "      <td>NaN</td>\n",
       "      <td>NaN</td>\n",
       "    </tr>\n",
       "  </tbody>\n",
       "</table>\n",
       "<p>5 rows × 159 columns</p>\n",
       "</div>"
      ],
      "text/plain": [
       "                 code                                                url  \\\n",
       "0  000000000000012866  http://world-en.openfoodfacts.org/product/0000...   \n",
       "1       0000000024600  http://world-en.openfoodfacts.org/product/0000...   \n",
       "2       0000000036252  http://world-en.openfoodfacts.org/product/0000...   \n",
       "3       0000000039259  http://world-en.openfoodfacts.org/product/0000...   \n",
       "4       0000000039529  http://world-en.openfoodfacts.org/product/0000...   \n",
       "\n",
       "           creator   created_t      created_datetime last_modified_t  \\\n",
       "0  date-limite-app  1447004364  2015-11-08T17:39:24Z      1447004364   \n",
       "1  date-limite-app  1434530704  2015-06-17T08:45:04Z      1434535914   \n",
       "2          tacinte  1422221701  2015-01-25T21:35:01Z      1422221855   \n",
       "3          tacinte  1422221773  2015-01-25T21:36:13Z      1422221926   \n",
       "4         teolemon  1420147051  2015-01-01T21:17:31Z      1439141740   \n",
       "\n",
       "  last_modified_datetime            product_name generic_name quantity  \\\n",
       "0   2015-11-08T17:39:24Z  Poêlée à la sarladaise          NaN      NaN   \n",
       "1   2015-06-17T10:11:54Z           Filet de bœuf          NaN  2.46 kg   \n",
       "2   2015-01-25T21:37:35Z          Lion Peanut x2          NaN      NaN   \n",
       "3   2015-01-25T21:38:46Z                 Twix x2          NaN      NaN   \n",
       "4   2015-08-09T17:35:40Z          Pack de 2 Twix          NaN      NaN   \n",
       "\n",
       "            ...           caffeine_100g taurine_100g ph_100g  \\\n",
       "0           ...                     NaN          NaN     NaN   \n",
       "1           ...                     NaN          NaN     NaN   \n",
       "2           ...                     NaN          NaN     NaN   \n",
       "3           ...                     NaN          NaN     NaN   \n",
       "4           ...                     NaN          NaN     NaN   \n",
       "\n",
       "  fruits_vegetables_nuts_100g collagen_meat_protein_ratio_100g cocoa_100g  \\\n",
       "0                         NaN                              NaN        NaN   \n",
       "1                         NaN                              NaN        NaN   \n",
       "2                         NaN                              NaN        NaN   \n",
       "3                         NaN                              NaN        NaN   \n",
       "4                         NaN                              NaN        NaN   \n",
       "\n",
       "  chlorophyl_100g carbon_footprint_100g nutrition_score_fr_100g  \\\n",
       "0             NaN                   NaN                     NaN   \n",
       "1             NaN                   NaN                     NaN   \n",
       "2             NaN                   NaN                     NaN   \n",
       "3             NaN                   NaN                     NaN   \n",
       "4             NaN                   NaN                     NaN   \n",
       "\n",
       "  nutrition_score_uk_100g  \n",
       "0                     NaN  \n",
       "1                     NaN  \n",
       "2                     NaN  \n",
       "3                     NaN  \n",
       "4                     NaN  \n",
       "\n",
       "[5 rows x 159 columns]"
      ]
     },
     "execution_count": 3,
     "metadata": {},
     "output_type": "execute_result"
    }
   ],
   "source": [
    "print data.shape\n",
    "data.head()"
   ]
  },
  {
   "cell_type": "code",
   "execution_count": 4,
   "metadata": {
    "collapsed": false
   },
   "outputs": [],
   "source": [
    "def getByCountry(dataset, country_name):\n",
    "    country_regex = r'%s' % country_name\n",
    "    isInCountry = dataset.countries_en.str.contains(country_regex)\n",
    "    isInCountry = isInCountry.fillna(False)\n",
    "    return dataset.loc[isInCountry]"
   ]
  },
  {
   "cell_type": "code",
   "execution_count": 5,
   "metadata": {
    "collapsed": false
   },
   "outputs": [
    {
     "name": "stdout",
     "output_type": "stream",
     "text": [
      "(2508, 159)\n"
     ]
    }
   ],
   "source": [
    "usa_data = getByCountry(data, 'United States')\n",
    "print usa_data.shape"
   ]
  },
  {
   "cell_type": "code",
   "execution_count": 6,
   "metadata": {
    "collapsed": false
   },
   "outputs": [
    {
     "data": {
      "text/plain": [
       "code                                   0\n",
       "url                                    0\n",
       "creator                               18\n",
       "created_t                              0\n",
       "created_datetime                       0\n",
       "last_modified_t                        0\n",
       "last_modified_datetime                 0\n",
       "product_name                         431\n",
       "generic_name                        1993\n",
       "quantity                             906\n",
       "packaging                           1356\n",
       "packaging_tags                      1356\n",
       "brands                               687\n",
       "brands_tags                          687\n",
       "categories                          1012\n",
       "categories_tags                     1012\n",
       "categories_en                       1012\n",
       "origins                             2396\n",
       "origins_tags                        2396\n",
       "manufacturing_places                2189\n",
       "manufacturing_places_tags           2189\n",
       "labels                              1936\n",
       "labels_tags                         1936\n",
       "labels_en                           1936\n",
       "emb_codes                           2492\n",
       "emb_codes_tags                      2492\n",
       "first_packaging_code_geo            2505\n",
       "cities                              2508\n",
       "cities_tags                         2505\n",
       "purchase_places                     1427\n",
       "                                    ... \n",
       "vitamin_b9_100g                     2395\n",
       "vitamin_b12_100g                    2447\n",
       "biotin_100g                         2498\n",
       "pantothenic_acid_100g               2490\n",
       "silica_100g                         2508\n",
       "bicarbonate_100g                    2508\n",
       "potassium_100g                      2339\n",
       "chloride_100g                       2508\n",
       "calcium_100g                        1630\n",
       "phosphorus_100g                     2438\n",
       "iron_100g                           1627\n",
       "magnesium_100g                      2444\n",
       "zinc_100g                           2458\n",
       "copper_100g                         2485\n",
       "manganese_100g                      2493\n",
       "fluoride_100g                       2508\n",
       "selenium_100g                       2494\n",
       "chromium_100g                       2501\n",
       "molybdenum_100g                     2506\n",
       "iodine_100g                         2497\n",
       "caffeine_100g                       2504\n",
       "taurine_100g                        2508\n",
       "ph_100g                             2508\n",
       "fruits_vegetables_nuts_100g         2505\n",
       "collagen_meat_protein_ratio_100g    2508\n",
       "cocoa_100g                          2507\n",
       "chlorophyl_100g                     2508\n",
       "carbon_footprint_100g               2506\n",
       "nutrition_score_fr_100g             1482\n",
       "nutrition_score_uk_100g             1482\n",
       "dtype: int64"
      ]
     },
     "execution_count": 6,
     "metadata": {},
     "output_type": "execute_result"
    }
   ],
   "source": [
    "usa_data.isnull().sum()"
   ]
  },
  {
   "cell_type": "code",
   "execution_count": null,
   "metadata": {
    "collapsed": true
   },
   "outputs": [],
   "source": []
  }
 ],
 "metadata": {
  "kernelspec": {
   "display_name": "Python 2",
   "language": "python",
   "name": "python2"
  },
  "language_info": {
   "codemirror_mode": {
    "name": "ipython",
    "version": 2
   },
   "file_extension": ".py",
   "mimetype": "text/x-python",
   "name": "python",
   "nbconvert_exporter": "python",
   "pygments_lexer": "ipython2",
   "version": "2.7.11"
  }
 },
 "nbformat": 4,
 "nbformat_minor": 0
}
