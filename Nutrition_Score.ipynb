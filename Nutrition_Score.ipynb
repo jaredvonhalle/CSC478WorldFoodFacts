{
 "cells": [
  {
   "cell_type": "code",
   "execution_count": 2,
   "metadata": {
    "collapsed": true
   },
   "outputs": [],
   "source": [
    "import numpy as np\n",
    "import pandas as pd\n",
    "import utilities as utils\n",
    "import matplotlib.pyplot as plt\n",
    "%matplotlib inline"
   ]
  },
  {
   "cell_type": "code",
   "execution_count": 4,
   "metadata": {
    "collapsed": false
   },
   "outputs": [],
   "source": [
    "rawdata = pd.read_csv(\"world-food-facts/FoodFacts.csv\")"
   ]
  },
  {
   "cell_type": "code",
   "execution_count": 91,
   "metadata": {
    "collapsed": true
   },
   "outputs": [],
   "source": [
    "not_null_data = rawdata[rawdata.nutrition_score_uk_100g.notnull()]"
   ]
  },
  {
   "cell_type": "code",
   "execution_count": 105,
   "metadata": {
    "collapsed": false
   },
   "outputs": [
    {
     "data": {
      "text/plain": [
       "(31294, 94)"
      ]
     },
     "execution_count": 105,
     "metadata": {},
     "output_type": "execute_result"
    }
   ],
   "source": [
    "nutriment_cols = [col for col in not_null_data.columns if '_100g' in col and not 'score' in col]\n",
    "data = not_null_data[nutriment_cols]\n",
    "data.shape"
   ]
  },
  {
   "cell_type": "code",
   "execution_count": 107,
   "metadata": {
    "collapsed": false
   },
   "outputs": [
    {
     "data": {
      "text/plain": [
       "(31294,)"
      ]
     },
     "execution_count": 107,
     "metadata": {},
     "output_type": "execute_result"
    }
   ],
   "source": [
    "target = not_null_data.nutrition_score_uk_100g.loc[data.index.values]\n",
    "target.shape"
   ]
  },
  {
   "cell_type": "code",
   "execution_count": 108,
   "metadata": {
    "collapsed": false
   },
   "outputs": [
    {
     "data": {
      "text/plain": [
       "energy_100g                           131\n",
       "energy_from_fat_100g                30627\n",
       "fat_100g                              144\n",
       "saturated_fat_100g                    131\n",
       "butyric_acid_100g                   31294\n",
       "caproic_acid_100g                   31294\n",
       "caprylic_acid_100g                  31294\n",
       "capric_acid_100g                    31294\n",
       "lauric_acid_100g                    31292\n",
       "myristic_acid_100g                  31294\n",
       "palmitic_acid_100g                  31294\n",
       "stearic_acid_100g                   31294\n",
       "arachidic_acid_100g                 31293\n",
       "behenic_acid_100g                   31294\n",
       "lignoceric_acid_100g                31294\n",
       "cerotic_acid_100g                   31294\n",
       "montanic_acid_100g                  31294\n",
       "melissic_acid_100g                  31294\n",
       "monounsaturated_fat_100g            29888\n",
       "polyunsaturated_fat_100g            29878\n",
       "omega_3_fat_100g                    30860\n",
       "alpha_linolenic_acid_100g           31176\n",
       "eicosapentaenoic_acid_100g          31271\n",
       "docosahexaenoic_acid_100g           31258\n",
       "omega_6_fat_100g                    31190\n",
       "linoleic_acid_100g                  31206\n",
       "arachidonic_acid_100g               31289\n",
       "gamma_linolenic_acid_100g           31293\n",
       "dihomo_gamma_linolenic_acid_100g    31294\n",
       "omega_9_fat_100g                    31280\n",
       "                                    ...  \n",
       "vitamin_pp_100g                     30639\n",
       "vitamin_b6_100g                     30670\n",
       "vitamin_b9_100g                     30609\n",
       "vitamin_b12_100g                    30777\n",
       "biotin_100g                         31138\n",
       "pantothenic_acid_100g               30946\n",
       "silica_100g                         31291\n",
       "bicarbonate_100g                    31285\n",
       "potassium_100g                      30960\n",
       "chloride_100g                       31265\n",
       "calcium_100g                        28790\n",
       "phosphorus_100g                     30818\n",
       "iron_100g                           29650\n",
       "magnesium_100g                      30714\n",
       "zinc_100g                           31081\n",
       "copper_100g                         31216\n",
       "manganese_100g                      31222\n",
       "fluoride_100g                       31269\n",
       "selenium_100g                       31229\n",
       "chromium_100g                       31280\n",
       "molybdenum_100g                     31290\n",
       "iodine_100g                         31197\n",
       "caffeine_100g                       31268\n",
       "taurine_100g                        31279\n",
       "ph_100g                             31292\n",
       "fruits_vegetables_nuts_100g         30445\n",
       "collagen_meat_protein_ratio_100g    31233\n",
       "cocoa_100g                          30929\n",
       "chlorophyl_100g                     31294\n",
       "carbon_footprint_100g               31148\n",
       "dtype: int64"
      ]
     },
     "execution_count": 108,
     "metadata": {},
     "output_type": "execute_result"
    }
   ],
   "source": [
    "data.isnull().sum()"
   ]
  },
  {
   "cell_type": "code",
   "execution_count": null,
   "metadata": {
    "collapsed": true
   },
   "outputs": [],
   "source": []
  }
 ],
 "metadata": {
  "kernelspec": {
   "display_name": "Python 2",
   "language": "python",
   "name": "python2"
  },
  "language_info": {
   "codemirror_mode": {
    "name": "ipython",
    "version": 2
   },
   "file_extension": ".py",
   "mimetype": "text/x-python",
   "name": "python",
   "nbconvert_exporter": "python",
   "pygments_lexer": "ipython2",
   "version": "2.7.11"
  }
 },
 "nbformat": 4,
 "nbformat_minor": 0
}
