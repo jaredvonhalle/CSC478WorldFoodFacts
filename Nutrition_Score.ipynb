{
 "cells": [
  {
   "cell_type": "code",
   "execution_count": 1,
   "metadata": {
    "collapsed": true
   },
   "outputs": [],
   "source": [
    "import numpy as np\n",
    "import pandas as pd\n",
    "import utilities as utils\n",
    "import pylab as pl\n",
    "import matplotlib.pyplot as plt\n",
    "%matplotlib inline\n",
    "\n",
    "from sklearn.preprocessing import MinMaxScaler\n",
    "from sklearn.cross_validation import KFold\n",
    "from sklearn.linear_model import LinearRegression"
   ]
  },
  {
   "cell_type": "code",
   "execution_count": 2,
   "metadata": {
    "collapsed": false
   },
   "outputs": [
    {
     "name": "stderr",
     "output_type": "stream",
     "text": [
      "/Applications/anaconda/lib/python2.7/site-packages/IPython/core/interactiveshell.py:2723: DtypeWarning: Columns (0,3,5,27,36) have mixed types. Specify dtype option on import or set low_memory=False.\n",
      "  interactivity=interactivity, compiler=compiler, result=result)\n"
     ]
    }
   ],
   "source": [
    "rawdata = pd.read_csv(\"world-food-facts/FoodFacts.csv\")"
   ]
  },
  {
   "cell_type": "code",
   "execution_count": 3,
   "metadata": {
    "collapsed": true
   },
   "outputs": [],
   "source": [
    "not_null_data = rawdata[rawdata.nutrition_score_uk_100g.notnull()]"
   ]
  },
  {
   "cell_type": "code",
   "execution_count": 4,
   "metadata": {
    "collapsed": false
   },
   "outputs": [
    {
     "data": {
      "text/plain": [
       "(31294, 94)"
      ]
     },
     "execution_count": 4,
     "metadata": {},
     "output_type": "execute_result"
    }
   ],
   "source": [
    "nutriment_cols = [col for col in not_null_data.columns if '_100g' in col and not 'score' in col]\n",
    "data = not_null_data[nutriment_cols]\n",
    "data = data.fillna(0) #fill nulls with 0 for now\n",
    "data.shape"
   ]
  },
  {
   "cell_type": "code",
   "execution_count": 5,
   "metadata": {
    "collapsed": false
   },
   "outputs": [
    {
     "data": {
      "text/plain": [
       "(31294,)"
      ]
     },
     "execution_count": 5,
     "metadata": {},
     "output_type": "execute_result"
    }
   ],
   "source": [
    "target = not_null_data.nutrition_score_uk_100g.loc[data.index.values]\n",
    "target.shape"
   ]
  },
  {
   "cell_type": "markdown",
   "metadata": {},
   "source": [
    "### Linear regression to predict nutrition score"
   ]
  },
  {
   "cell_type": "code",
   "execution_count": 6,
   "metadata": {
    "collapsed": false
   },
   "outputs": [],
   "source": [
    "x = data.as_matrix()\n",
    "y = target.as_matrix()"
   ]
  },
  {
   "cell_type": "code",
   "execution_count": 7,
   "metadata": {
    "collapsed": false
   },
   "outputs": [
    {
     "data": {
      "text/plain": [
       "array([[  1.28400000e+03,   0.00000000e+00,   7.00000000e+00, ...,\n",
       "          0.00000000e+00,   0.00000000e+00,   1.00000000e+00],\n",
       "       [  1.28400000e+03,   0.00000000e+00,   7.00000000e+00, ...,\n",
       "          0.00000000e+00,   0.00000000e+00,   1.00000000e+00],\n",
       "       [  1.77000000e+02,   0.00000000e+00,   0.00000000e+00, ...,\n",
       "          0.00000000e+00,   0.00000000e+00,   1.00000000e+00],\n",
       "       ..., \n",
       "       [  6.60000000e+02,   0.00000000e+00,   6.90000000e+00, ...,\n",
       "          0.00000000e+00,   0.00000000e+00,   1.00000000e+00],\n",
       "       [  1.64300000e+03,   0.00000000e+00,   2.80000000e+00, ...,\n",
       "          0.00000000e+00,   0.00000000e+00,   1.00000000e+00],\n",
       "       [  2.10000000e+01,   0.00000000e+00,   2.00000000e-01, ...,\n",
       "          0.00000000e+00,   0.00000000e+00,   1.00000000e+00]])"
      ]
     },
     "execution_count": 7,
     "metadata": {},
     "output_type": "execute_result"
    }
   ],
   "source": [
    "x = np.array([np.concatenate((v,[1])) for v in x]) #add column of ones to the end of the data set\n",
    "x"
   ]
  },
  {
   "cell_type": "code",
   "execution_count": 8,
   "metadata": {
    "collapsed": false
   },
   "outputs": [
    {
     "data": {
      "text/plain": [
       "LinearRegression(copy_X=True, fit_intercept=True, n_jobs=1, normalize=False)"
      ]
     },
     "execution_count": 8,
     "metadata": {},
     "output_type": "execute_result"
    }
   ],
   "source": [
    "linreg = LinearRegression()\n",
    "linreg.fit(x,y)"
   ]
  },
  {
   "cell_type": "code",
   "execution_count": 9,
   "metadata": {
    "collapsed": false
   },
   "outputs": [
    {
     "data": {
      "text/plain": [
       "array([ 10.8124055 ,  10.81236084,   0.6237916 , ...,   4.36152766,\n",
       "         3.80741665,  -1.74665237])"
      ]
     },
     "execution_count": 9,
     "metadata": {},
     "output_type": "execute_result"
    }
   ],
   "source": [
    "p = linreg.predict(x)\n",
    "p"
   ]
  },
  {
   "cell_type": "code",
   "execution_count": 10,
   "metadata": {
    "collapsed": false
   },
   "outputs": [
    {
     "data": {
      "text/plain": [
       "array([ 0.8124055 ,  0.81236084,  1.3762084 , ...,  1.63847234,\n",
       "        7.80741665,  1.74665237])"
      ]
     },
     "execution_count": 10,
     "metadata": {},
     "output_type": "execute_result"
    }
   ],
   "source": [
    "err = abs(p-y)\n",
    "err"
   ]
  },
  {
   "cell_type": "code",
   "execution_count": 11,
   "metadata": {
    "collapsed": false
   },
   "outputs": [
    {
     "data": {
      "text/plain": [
       "4.6161598836408091"
      ]
     },
     "execution_count": 11,
     "metadata": {},
     "output_type": "execute_result"
    }
   ],
   "source": [
    "total_error = np.dot(err,err)\n",
    "rmse_train = np.sqrt(total_error/len(p))\n",
    "rmse_train"
   ]
  },
  {
   "cell_type": "code",
   "execution_count": 12,
   "metadata": {
    "collapsed": false
   },
   "outputs": [
    {
     "data": {
      "text/plain": [
       "array([  4.56946512e-03,   1.07052625e-03,   9.15020927e-02,\n",
       "         3.15416243e-01,   5.46325811e-05,   4.12197257e-06,\n",
       "         2.44536582e-05,   3.46542271e-05,  -7.74730197e-01,\n",
       "        -8.72104047e-06,  -2.49092606e-06,  -2.14088623e-06,\n",
       "        -7.28380971e+00,   1.39256962e-06,   9.63420224e-07,\n",
       "        -2.73594065e-07,  -2.56717697e-06,  -5.34030885e-07,\n",
       "        -7.73083475e-02,  -4.67721137e-02,  -1.01804130e-01,\n",
       "        -1.79052577e-02,   7.74656464e+00,  -4.79454024e+00,\n",
       "        -3.58764905e-02,   1.46140012e-01,   1.16674779e+02,\n",
       "        -6.93266581e+03,   1.65670953e-06,  -4.34358589e-02,\n",
       "        -5.77655141e-02,  -2.04393863e-06,  -5.00307524e-07,\n",
       "         1.10506677e-06,   1.37881475e-07,   2.43539596e-07,\n",
       "         2.13370985e-03,  -1.49773278e+00,  -4.26696976e-02,\n",
       "         2.14722416e-01,   1.48376435e-01,   1.69265264e-03,\n",
       "        -6.52283714e-02,  -4.73007262e-02,   1.86186835e-02,\n",
       "         2.22520987e-02,   1.46315436e-02,   4.31527048e-02,\n",
       "        -5.69989139e-01,   1.56657319e-01,   1.87401540e-01,\n",
       "        -8.65532489e-02,  -3.53969924e+02,   1.17674950e+02,\n",
       "        -2.97782244e+02,   6.65335947e-02,   3.10818803e+01,\n",
       "         1.77618659e+01,   4.10858163e-01,  -1.03807157e-01,\n",
       "        -2.74642336e+01,  -7.33864520e-01,  -8.26186374e+01,\n",
       "         3.84475380e+02,   2.42903902e-02,  -2.71259506e+01,\n",
       "         1.25080432e+01,   2.51068355e+05,  -2.22170424e+04,\n",
       "         2.12776102e+00,  -1.56014730e+02,   4.87825350e+01,\n",
       "        -9.03342860e-02,   1.43506188e+01,   9.24245015e-02,\n",
       "        -7.29966578e+00,  -3.69397757e-02,   8.07534515e+00,\n",
       "         6.95180821e+01,  -2.66838172e+01,  -7.39640207e+00,\n",
       "        -2.19214213e+02,  -1.96272508e+04,  -1.10924555e+05,\n",
       "         2.90710626e+05,  -1.05711040e+04,   1.06022437e-01,\n",
       "         2.78049792e+00,   2.76055109e-01,  -1.86585052e-02,\n",
       "        -9.23707247e-02,  -3.71354158e-02,   0.00000000e+00,\n",
       "         4.96664341e-04,   0.00000000e+00])"
      ]
     },
     "execution_count": 12,
     "metadata": {},
     "output_type": "execute_result"
    }
   ],
   "source": [
    "linreg.coef_ #Regression Coefficients"
   ]
  },
  {
   "cell_type": "code",
   "execution_count": 13,
   "metadata": {
    "collapsed": false
   },
   "outputs": [
    {
     "data": {
      "image/png": "[encoded data removed]",
      "text/plain": [
       "<matplotlib.figure.Figure at 0x12900a7d0>"
      ]
     },
     "metadata": {},
     "output_type": "display_data"
    }
   ],
   "source": [
    "pl.plot(p, y,'ro')\n",
    "pl.plot([-50,50],[-50,50], 'g-')\n",
    "pl.xlabel('predicted')\n",
    "pl.ylabel('real')\n",
    "pl.show()"
   ]
  },
  {
   "cell_type": "code",
   "execution_count": 14,
   "metadata": {
    "collapsed": false
   },
   "outputs": [],
   "source": [
    "# RMSE with 10-Fold Cross Validation\n",
    "kf = KFold(len(x), n_folds=10)\n",
    "xval_err = 0\n",
    "for train,test in kf:\n",
    "    linreg.fit(x[train],y[train])\n",
    "    p = linreg.predict(x[test])\n",
    "    e = p-y[test]\n",
    "    xval_err += np.dot(e,e)\n",
    "    \n",
    "rmse_10cv = np.sqrt(xval_err/len(x))"
   ]
  },
  {
   "cell_type": "code",
   "execution_count": 15,
   "metadata": {
    "collapsed": false
   },
   "outputs": [
    {
     "name": "stdout",
     "output_type": "stream",
     "text": [
      "Method: Simple Linear Regression\n",
      "RMSE on training: 4.6162\n",
      "RMSE on 10-fold CV: 1418.3081\n"
     ]
    }
   ],
   "source": [
    "method_name = 'Simple Linear Regression'\n",
    "print('Method: %s' %method_name)\n",
    "print('RMSE on training: %.4f' %rmse_train)\n",
    "print('RMSE on 10-fold CV: %.4f' %rmse_10cv)"
   ]
  },
  {
   "cell_type": "code",
   "execution_count": null,
   "metadata": {
    "collapsed": true
   },
   "outputs": [],
   "source": []
  }
 ],
 "metadata": {
  "kernelspec": {
   "display_name": "Python 2",
   "language": "python",
   "name": "python2"
  },
  "language_info": {
   "codemirror_mode": {
    "name": "ipython",
    "version": 2
   },
   "file_extension": ".py",
   "mimetype": "text/x-python",
   "name": "python",
   "nbconvert_exporter": "python",
   "pygments_lexer": "ipython2",
   "version": "2.7.11"
  }
 },
 "nbformat": 4,
 "nbformat_minor": 0
}
