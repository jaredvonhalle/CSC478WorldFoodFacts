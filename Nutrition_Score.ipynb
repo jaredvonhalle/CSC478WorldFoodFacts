{
 "cells": [
  {
   "cell_type": "code",
   "execution_count": 25,
   "metadata": {
    "collapsed": true
   },
   "outputs": [],
   "source": [
    "import numpy as np\n",
    "import pandas as pd\n",
    "import utilities as utils\n",
    "import pylab as pl\n",
    "import matplotlib.pyplot as plt\n",
    "%matplotlib inline\n",
    "\n",
    "from sklearn.preprocessing import StandardScaler\n",
    "from sklearn.cross_validation import KFold\n",
    "from sklearn.linear_model import LinearRegression, Lasso, Ridge, ElasticNet, SGDRegressor\n",
    "\n",
    "np.set_printoptions(precision=2, linewidth=120, suppress=True, edgeitems=4)"
   ]
  },
  {
   "cell_type": "code",
   "execution_count": 2,
   "metadata": {
    "collapsed": false
   },
   "outputs": [
    {
     "name": "stderr",
     "output_type": "stream",
     "text": [
      "/Applications/anaconda/lib/python2.7/site-packages/IPython/core/interactiveshell.py:2723: DtypeWarning: Columns (0,3,5,27,36) have mixed types. Specify dtype option on import or set low_memory=False.\n",
      "  interactivity=interactivity, compiler=compiler, result=result)\n"
     ]
    }
   ],
   "source": [
    "rawdata = pd.read_csv(\"world-food-facts/FoodFacts.csv\")"
   ]
  },
  {
   "cell_type": "code",
   "execution_count": 3,
   "metadata": {
    "collapsed": true
   },
   "outputs": [],
   "source": [
    "not_null_data = rawdata[rawdata.nutrition_score_uk_100g.notnull()]"
   ]
  },
  {
   "cell_type": "code",
   "execution_count": 4,
   "metadata": {
    "collapsed": false
   },
   "outputs": [
    {
     "data": {
      "text/plain": [
       "(31294, 94)"
      ]
     },
     "execution_count": 4,
     "metadata": {},
     "output_type": "execute_result"
    }
   ],
   "source": [
    "nutriment_cols = [col for col in not_null_data.columns if '_100g' in col and not 'score' in col]\n",
    "data = not_null_data[nutriment_cols]\n",
    "data = data.fillna(0) #fill nulls with 0 for now\n",
    "data.shape"
   ]
  },
  {
   "cell_type": "code",
   "execution_count": 5,
   "metadata": {
    "collapsed": false
   },
   "outputs": [
    {
     "data": {
      "text/plain": [
       "(31294,)"
      ]
     },
     "execution_count": 5,
     "metadata": {},
     "output_type": "execute_result"
    }
   ],
   "source": [
    "target = not_null_data.nutrition_score_uk_100g.loc[data.index.values]\n",
    "target.shape"
   ]
  },
  {
   "cell_type": "markdown",
   "metadata": {},
   "source": [
    "### Linear regression to predict nutrition score"
   ]
  },
  {
   "cell_type": "code",
   "execution_count": 6,
   "metadata": {
    "collapsed": false
   },
   "outputs": [],
   "source": [
    "x = data.as_matrix()\n",
    "y = target.as_matrix()"
   ]
  },
  {
   "cell_type": "code",
   "execution_count": 7,
   "metadata": {
    "collapsed": false
   },
   "outputs": [
    {
     "name": "stdout",
     "output_type": "stream",
     "text": [
      "[[ 1284.      0.      7.      3.6 ...,     0.      0.      0.      1. ]\n",
      " [ 1284.      0.      7.      3.6 ...,     0.      0.      0.      1. ]\n",
      " [  177.      0.      0.      0.  ...,     0.      0.      0.      1. ]\n",
      " [  177.      0.      0.      0.  ...,     0.      0.      0.      1. ]\n",
      " ..., \n",
      " [ 2111.      0.     53.3     3.8 ...,     0.      0.      0.      1. ]\n",
      " [  660.      0.      6.9     0.5 ...,     0.      0.      0.      1. ]\n",
      " [ 1643.      0.      2.8     0.6 ...,     0.      0.      0.      1. ]\n",
      " [   21.      0.      0.2     0.2 ...,     0.      0.      0.      1. ]]\n"
     ]
    }
   ],
   "source": [
    "x = np.array([np.concatenate((v,[1])) for v in x]) #add column of ones to the end of the data set\n",
    "print x"
   ]
  },
  {
   "cell_type": "code",
   "execution_count": 8,
   "metadata": {
    "collapsed": false
   },
   "outputs": [
    {
     "data": {
      "text/plain": [
       "LinearRegression(copy_X=True, fit_intercept=True, n_jobs=1, normalize=False)"
      ]
     },
     "execution_count": 8,
     "metadata": {},
     "output_type": "execute_result"
    }
   ],
   "source": [
    "linreg = LinearRegression()\n",
    "linreg.fit(x,y)"
   ]
  },
  {
   "cell_type": "code",
   "execution_count": 9,
   "metadata": {
    "collapsed": false
   },
   "outputs": [
    {
     "data": {
      "text/plain": [
       "array([ 10.81,  10.81,   0.62,   0.66, ...,  15.35,   4.36,   3.81,  -1.75])"
      ]
     },
     "execution_count": 9,
     "metadata": {},
     "output_type": "execute_result"
    }
   ],
   "source": [
    "p = linreg.predict(x)\n",
    "p"
   ]
  },
  {
   "cell_type": "code",
   "execution_count": 10,
   "metadata": {
    "collapsed": false
   },
   "outputs": [
    {
     "data": {
      "text/plain": [
       "array([ 0.81,  0.81,  1.38,  1.34, ...,  1.65,  1.64,  7.81,  1.75])"
      ]
     },
     "execution_count": 10,
     "metadata": {},
     "output_type": "execute_result"
    }
   ],
   "source": [
    "err = abs(p-y)\n",
    "err"
   ]
  },
  {
   "cell_type": "code",
   "execution_count": 11,
   "metadata": {
    "collapsed": false
   },
   "outputs": [
    {
     "data": {
      "text/plain": [
       "4.6161598836408091"
      ]
     },
     "execution_count": 11,
     "metadata": {},
     "output_type": "execute_result"
    }
   ],
   "source": [
    "total_error = np.dot(err,err)\n",
    "rmse_train = np.sqrt(total_error/len(p))\n",
    "rmse_train"
   ]
  },
  {
   "cell_type": "code",
   "execution_count": 12,
   "metadata": {
    "collapsed": false
   },
   "outputs": [
    {
     "data": {
      "text/plain": [
       "array([      0.  ,       0.  ,       0.09,       0.32,       0.  ,       0.  ,       0.  ,       0.  ,      -0.77,\n",
       "            -0.  ,      -0.  ,      -0.  ,      -7.28,       0.  ,       0.  ,      -0.  ,      -0.  ,      -0.  ,\n",
       "            -0.08,      -0.05,      -0.1 ,      -0.02,       7.75,      -4.79,      -0.04,       0.15,     116.67,\n",
       "         -6932.67,       0.  ,      -0.04,      -0.06,      -0.  ,      -0.  ,       0.  ,       0.  ,       0.  ,\n",
       "             0.  ,      -1.5 ,      -0.04,       0.21,       0.15,       0.  ,      -0.07,      -0.05,       0.02,\n",
       "             0.02,       0.01,       0.04,      -0.57,       0.16,       0.19,      -0.09,    -353.97,     117.67,\n",
       "          -297.78,       0.07,      31.08,      17.76,       0.41,      -0.1 ,     -27.46,      -0.73,     -82.62,\n",
       "           384.48,       0.02,     -27.13,      12.51,  251068.35,  -22217.04,       2.13,    -156.01,      48.78,\n",
       "            -0.09,      14.35,       0.09,      -7.3 ,      -0.04,       8.08,      69.52,     -26.68,      -7.4 ,\n",
       "          -219.21,  -19627.25, -110924.55,  290710.63,  -10571.1 ,       0.11,       2.78,       0.28,      -0.02,\n",
       "            -0.09,      -0.04,       0.  ,       0.  ,       0.  ])"
      ]
     },
     "execution_count": 12,
     "metadata": {},
     "output_type": "execute_result"
    }
   ],
   "source": [
    "linreg.coef_ #Regression Coefficients"
   ]
  },
  {
   "cell_type": "code",
   "execution_count": 13,
   "metadata": {
    "collapsed": false
   },
   "outputs": [
    {
     "data": {
      "image/png": "[encoded data removed]",
      "text/plain": [
       "<matplotlib.figure.Figure at 0x12894dd50>"
      ]
     },
     "metadata": {},
     "output_type": "display_data"
    }
   ],
   "source": [
    "pl.plot(p, y,'ro')\n",
    "pl.plot([-50,50],[-50,50], 'g-')\n",
    "pl.xlabel('predicted')\n",
    "pl.ylabel('real')\n",
    "pl.show()"
   ]
  },
  {
   "cell_type": "code",
   "execution_count": 14,
   "metadata": {
    "collapsed": false
   },
   "outputs": [],
   "source": [
    "# RMSE with 10-Fold Cross Validation\n",
    "kf = KFold(len(x), n_folds=10)\n",
    "xval_err = 0\n",
    "for train,test in kf:\n",
    "    linreg.fit(x[train],y[train])\n",
    "    p = linreg.predict(x[test])\n",
    "    e = p-y[test]\n",
    "    xval_err += np.dot(e,e)\n",
    "    \n",
    "rmse_10cv = np.sqrt(xval_err/len(x))"
   ]
  },
  {
   "cell_type": "code",
   "execution_count": 16,
   "metadata": {
    "collapsed": false
   },
   "outputs": [
    {
     "name": "stdout",
     "output_type": "stream",
     "text": [
      "Method: Linear Regression\n",
      "RMSE on training: 4.6162\n",
      "RMSE on 10-fold CV: 1418.3081\n"
     ]
    }
   ],
   "source": [
    "print('Method: Linear Regression')\n",
    "print('RMSE on training: %.4f' %rmse_train)\n",
    "print('RMSE on 10-fold CV: %.4f' %rmse_10cv)"
   ]
  },
  {
   "cell_type": "code",
   "execution_count": 19,
   "metadata": {
    "collapsed": false
   },
   "outputs": [
    {
     "data": {
      "text/plain": [
       "Ridge(alpha=0.5, copy_X=True, fit_intercept=True, max_iter=None,\n",
       "   normalize=False, random_state=None, solver='auto', tol=0.001)"
      ]
     },
     "execution_count": 19,
     "metadata": {},
     "output_type": "execute_result"
    }
   ],
   "source": [
    "# Create linear regression object with a ridge coefficient 0.5\n",
    "ridge = Ridge(fit_intercept=True, alpha=0.5)\n",
    "\n",
    "# Train the model using the training set\n",
    "ridge.fit(x,y)"
   ]
  },
  {
   "cell_type": "code",
   "execution_count": 20,
   "metadata": {
    "collapsed": false
   },
   "outputs": [
    {
     "name": "stdout",
     "output_type": "stream",
     "text": [
      "Method: Ridge Regression\n",
      "RMSE on training: 4.6456\n",
      "RMSE on 10-fold CV: 4.9892\n"
     ]
    }
   ],
   "source": [
    "# Compute RMSE on training data\n",
    "# p = np.array([ridge.predict(xi) for xi in x])\n",
    "p = ridge.predict(x)\n",
    "err = p-y\n",
    "total_error = np.dot(err,err)\n",
    "rmse_train = np.sqrt(total_error/len(p))\n",
    "\n",
    "# Compute RMSE using 10-fold x-validation\n",
    "kf = KFold(len(x), n_folds=10)\n",
    "xval_err = 0\n",
    "for train,test in kf:\n",
    "    ridge.fit(x[train],y[train])\n",
    "    p = ridge.predict(x[test])\n",
    "    e = p-y[test]\n",
    "    xval_err += np.dot(e,e)\n",
    "rmse_10cv = np.sqrt(xval_err/len(x))\n",
    "\n",
    "method_name = 'Ridge Regression'\n",
    "print('Method: %s' %method_name)\n",
    "print('RMSE on training: %.4f' %rmse_train)\n",
    "print('RMSE on 10-fold CV: %.4f' %rmse_10cv)"
   ]
  },
  {
   "cell_type": "code",
   "execution_count": 21,
   "metadata": {
    "collapsed": false
   },
   "outputs": [
    {
     "name": "stdout",
     "output_type": "stream",
     "text": [
      "Ridge Regression\n",
      "alpha\t RMSE_train\t RMSE_10cv\n",
      "\n",
      "0.010\t 4.6431\t\t 28.8886\n",
      "0.418\t 4.6456\t\t 5.0328\n",
      "0.826\t 4.6458\t\t 4.8922\n",
      "1.234\t 4.6459\t\t 4.8361\n",
      "1.642\t 4.6460\t\t 4.8067\n",
      "2.050\t 4.6460\t\t 4.7894\n",
      "2.458\t 4.6461\t\t 4.7785\n",
      "2.866\t 4.6461\t\t 4.7712\n",
      "3.274\t 4.6462\t\t 4.7661\n",
      "3.682\t 4.6462\t\t 4.7623\n",
      "4.090\t 4.6463\t\t 4.7595\n",
      "4.498\t 4.6463\t\t 4.7574\n",
      "4.906\t 4.6463\t\t 4.7557\n",
      "5.313\t 4.6464\t\t 4.7543\n",
      "5.721\t 4.6464\t\t 4.7532\n",
      "6.129\t 4.6465\t\t 4.7523\n",
      "6.537\t 4.6465\t\t 4.7515\n",
      "6.945\t 4.6465\t\t 4.7508\n",
      "7.353\t 4.6466\t\t 4.7501\n",
      "7.761\t 4.6466\t\t 4.7496\n",
      "8.169\t 4.6467\t\t 4.7491\n",
      "8.577\t 4.6467\t\t 4.7486\n",
      "8.985\t 4.6467\t\t 4.7482\n",
      "9.393\t 4.6468\t\t 4.7478\n",
      "9.801\t 4.6468\t\t 4.7474\n",
      "10.209\t 4.6468\t\t 4.7471\n",
      "10.617\t 4.6469\t\t 4.7467\n",
      "11.025\t 4.6469\t\t 4.7464\n",
      "11.433\t 4.6470\t\t 4.7461\n",
      "11.841\t 4.6470\t\t 4.7458\n",
      "12.249\t 4.6470\t\t 4.7455\n",
      "12.657\t 4.6471\t\t 4.7453\n",
      "13.065\t 4.6471\t\t 4.7450\n",
      "13.473\t 4.6471\t\t 4.7447\n",
      "13.881\t 4.6472\t\t 4.7445\n",
      "14.289\t 4.6472\t\t 4.7442\n",
      "14.697\t 4.6472\t\t 4.7440\n",
      "15.104\t 4.6473\t\t 4.7437\n",
      "15.512\t 4.6473\t\t 4.7435\n",
      "15.920\t 4.6473\t\t 4.7433\n",
      "16.328\t 4.6474\t\t 4.7430\n",
      "16.736\t 4.6474\t\t 4.7428\n",
      "17.144\t 4.6474\t\t 4.7426\n",
      "17.552\t 4.6475\t\t 4.7424\n",
      "17.960\t 4.6475\t\t 4.7422\n",
      "18.368\t 4.6475\t\t 4.7420\n",
      "18.776\t 4.6476\t\t 4.7418\n",
      "19.184\t 4.6476\t\t 4.7416\n",
      "19.592\t 4.6476\t\t 4.7414\n",
      "20.000\t 4.6476\t\t 4.7412\n"
     ]
    }
   ],
   "source": [
    "print('Ridge Regression')\n",
    "print('alpha\\t RMSE_train\\t RMSE_10cv\\n')\n",
    "alpha = np.linspace(.01,20,50)\n",
    "t_rmse = np.array([])\n",
    "cv_rmse = np.array([])\n",
    "\n",
    "for a in alpha:\n",
    "    ridge = Ridge(fit_intercept=True, alpha=a)\n",
    "    \n",
    "    # computing the RMSE on training data\n",
    "    ridge.fit(x,y)\n",
    "    p = ridge.predict(x)\n",
    "    err = p-y\n",
    "    total_error = np.dot(err,err)\n",
    "    rmse_train = np.sqrt(total_error/len(p))\n",
    "\n",
    "    # computing RMSE using 10-fold cross validation\n",
    "    kf = KFold(len(x), n_folds=10)\n",
    "    xval_err = 0\n",
    "    for train, test in kf:\n",
    "        ridge.fit(x[train], y[train])\n",
    "        p = ridge.predict(x[test])\n",
    "        err = p - y[test]\n",
    "        xval_err += np.dot(err,err)\n",
    "    rmse_10cv = np.sqrt(xval_err/len(x))\n",
    "    \n",
    "    t_rmse = np.append(t_rmse, [rmse_train])\n",
    "    cv_rmse = np.append(cv_rmse, [rmse_10cv])\n",
    "    print('{:.3f}\\t {:.4f}\\t\\t {:.4f}'.format(a,rmse_train,rmse_10cv))"
   ]
  },
  {
   "cell_type": "code",
   "execution_count": 22,
   "metadata": {
    "collapsed": false
   },
   "outputs": [
    {
     "data": {
      "image/png": "[encoded data removed]",
      "text/plain": [
       "<matplotlib.figure.Figure at 0x119eb51d0>"
      ]
     },
     "metadata": {},
     "output_type": "display_data"
    }
   ],
   "source": [
    "pl.plot(alpha, t_rmse, label='RMSE-Train')\n",
    "pl.plot(alpha, cv_rmse, label='RMSE_XVal')\n",
    "pl.legend( ('RMSE-Train', 'RMSE_XVal') )\n",
    "pl.ylabel('RMSE')\n",
    "pl.xlabel('Alpha')\n",
    "pl.show()"
   ]
  },
  {
   "cell_type": "code",
   "execution_count": 24,
   "metadata": {
    "collapsed": false
   },
   "outputs": [
    {
     "name": "stdout",
     "output_type": "stream",
     "text": [
      "Method: linear regression\n",
      "RMSE on training: 4.6162\n",
      "RMSE on 10-fold CV: 1418.3081\n",
      "\n",
      "\n",
      "Method: lasso\n",
      "RMSE on training: 4.6684\n",
      "RMSE on 10-fold CV: 4.7072\n",
      "\n",
      "\n",
      "Method: ridge\n",
      "RMSE on training: 4.6454\n",
      "RMSE on 10-fold CV: 5.1338\n",
      "\n",
      "\n",
      "Method: elastic-net\n",
      "RMSE on training: 4.6653\n",
      "RMSE on 10-fold CV: 4.7074\n",
      "\n",
      "\n"
     ]
    }
   ],
   "source": [
    "a = 0.3\n",
    "for name,met in [\n",
    "        ('linear regression', LinearRegression()),\n",
    "        ('lasso', Lasso(fit_intercept=True, alpha=a)),\n",
    "        ('ridge', Ridge(fit_intercept=True, alpha=a)),\n",
    "        ('elastic-net', ElasticNet(fit_intercept=True, alpha=a))\n",
    "        ]:\n",
    "    met.fit(x,y)\n",
    "    # p = np.array([met.predict(xi) for xi in x])\n",
    "    p = met.predict(x)\n",
    "    e = p-y\n",
    "    total_error = np.dot(e,e)\n",
    "    rmse_train = np.sqrt(total_error/len(p))\n",
    "\n",
    "    kf = KFold(len(x), n_folds=10)\n",
    "    err = 0\n",
    "    for train,test in kf:\n",
    "        met.fit(x[train],y[train])\n",
    "        p = met.predict(x[test])\n",
    "        e = p-y[test]\n",
    "        err += np.dot(e,e)\n",
    "\n",
    "    rmse_10cv = np.sqrt(err/len(x))\n",
    "    print('Method: %s' %name)\n",
    "    print('RMSE on training: %.4f' %rmse_train)\n",
    "    print('RMSE on 10-fold CV: %.4f' %rmse_10cv)\n",
    "    print \"\\n\""
   ]
  },
  {
   "cell_type": "code",
   "execution_count": 27,
   "metadata": {
    "collapsed": false
   },
   "outputs": [
    {
     "name": "stdout",
     "output_type": "stream",
     "text": [
      "[[ 0.26 -0.1  -0.35 -0.19 ..., -0.1   0.   -0.04  0.  ]\n",
      " [ 0.26 -0.1  -0.35 -0.19 ..., -0.1   0.   -0.04  0.  ]\n",
      " [-1.15 -0.1  -0.77 -0.65 ..., -0.1   0.   -0.04  0.  ]\n",
      " [-1.15 -0.1  -0.77 -0.65 ..., -0.1   0.   -0.04  0.  ]\n",
      " ..., \n",
      " [ 1.31 -0.1   2.41 -0.17 ..., -0.1   0.   -0.04  0.  ]\n",
      " [-0.54 -0.1  -0.36 -0.59 ..., -0.1   0.   -0.04  0.  ]\n",
      " [ 0.71 -0.1  -0.6  -0.57 ..., -0.1   0.   -0.04  0.  ]\n",
      " [-1.35 -0.1  -0.76 -0.63 ..., -0.1   0.   -0.04  0.  ]]\n",
      "Method: Stochastic Gradient Descent Regression\n",
      "RMSE on training: 82029857767.1123\n",
      "RMSE on 10-fold CV: 29285661876483.3477\n"
     ]
    }
   ],
   "source": [
    "scaler = StandardScaler()\n",
    "scaler.fit(x)\n",
    "x_s = scaler.transform(x)\n",
    "print x_s\n",
    "\n",
    "sgdreg = SGDRegressor(penalty='l2', alpha=0.15, n_iter=200)\n",
    "\n",
    "# Compute RMSE on training data\n",
    "sgdreg.fit(x_s,y)\n",
    "p = sgdreg.predict(x_s)\n",
    "err = p-y\n",
    "total_error = np.dot(err,err)\n",
    "rmse_train = np.sqrt(total_error/len(p))\n",
    "\n",
    "# Compute RMSE using 10-fold x-validation\n",
    "kf = KFold(len(x), n_folds=10)\n",
    "xval_err = 0\n",
    "for train,test in kf:\n",
    "    scaler = StandardScaler()\n",
    "    scaler.fit(x[train])  # Don't cheat - fit only on training data\n",
    "    xtrain_s = scaler.transform(x[train])\n",
    "    xtest_s = scaler.transform(x[test])  # apply same transformation to test data\n",
    "    sgdreg.fit(xtrain_s,y[train])\n",
    "    p = sgdreg.predict(xtest_s)\n",
    "    e = p-y[test]\n",
    "    xval_err += np.dot(e,e)\n",
    "rmse_10cv = np.sqrt(xval_err/len(x))\n",
    "\n",
    "method_name = 'Stochastic Gradient Descent Regression'\n",
    "print('Method: %s' %method_name)\n",
    "print('RMSE on training: %.4f' %rmse_train)\n",
    "print('RMSE on 10-fold CV: %.4f' %rmse_10cv)"
   ]
  },
  {
   "cell_type": "code",
   "execution_count": null,
   "metadata": {
    "collapsed": true
   },
   "outputs": [],
   "source": []
  }
 ],
 "metadata": {
  "kernelspec": {
   "display_name": "Python 2",
   "language": "python",
   "name": "python2"
  },
  "language_info": {
   "codemirror_mode": {
    "name": "ipython",
    "version": 2
   },
   "file_extension": ".py",
   "mimetype": "text/x-python",
   "name": "python",
   "nbconvert_exporter": "python",
   "pygments_lexer": "ipython2",
   "version": "2.7.11"
  }
 },
 "nbformat": 4,
 "nbformat_minor": 0
}
