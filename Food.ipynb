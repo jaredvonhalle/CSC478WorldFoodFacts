{
 "cells": [
  {
   "cell_type": "code",
   "execution_count": 66,
   "metadata": {
    "collapsed": true
   },
   "outputs": [],
   "source": [
    "import numpy as np\n",
    "import pandas as pd\n",
    "import matplotlib.pyplot as plt\n",
    "from sklearn.cross_validation import KFold, train_test_split\n",
    "%matplotlib inline"
   ]
  },
  {
   "cell_type": "code",
   "execution_count": 5,
   "metadata": {
    "collapsed": false
   },
   "outputs": [
    {
     "name": "stderr",
     "output_type": "stream",
     "text": [
      "/Users/Jared/anaconda/lib/python2.7/site-packages/IPython/core/interactiveshell.py:2723: DtypeWarning: Columns (0,3,5,27,36) have mixed types. Specify dtype option on import or set low_memory=False.\n",
      "  interactivity=interactivity, compiler=compiler, result=result)\n"
     ]
    }
   ],
   "source": [
    "data = pd.read_csv(\"data/food.csv\", delimiter=\"\\t\")"
   ]
  },
  {
   "cell_type": "code",
   "execution_count": 6,
   "metadata": {
    "collapsed": false
   },
   "outputs": [
    {
     "data": {
      "text/plain": [
       "(79470, 159)"
      ]
     },
     "execution_count": 6,
     "metadata": {},
     "output_type": "execute_result"
    }
   ],
   "source": [
    "data.shape"
   ]
  },
  {
   "cell_type": "code",
   "execution_count": 7,
   "metadata": {
    "collapsed": false
   },
   "outputs": [
    {
     "data": {
      "text/plain": [
       "Index([u'code', u'url', u'creator', u'created_t', u'created_datetime',\n",
       "       u'last_modified_t', u'last_modified_datetime', u'product_name',\n",
       "       u'generic_name', u'quantity',\n",
       "       ...\n",
       "       u'caffeine_100g', u'taurine_100g', u'ph_100g',\n",
       "       u'fruits-vegetables-nuts_100g', u'collagen-meat-protein-ratio_100g',\n",
       "       u'cocoa_100g', u'chlorophyl_100g', u'carbon-footprint_100g',\n",
       "       u'nutrition-score-fr_100g', u'nutrition-score-uk_100g'],\n",
       "      dtype='object', length=159)"
      ]
     },
     "execution_count": 7,
     "metadata": {},
     "output_type": "execute_result"
    }
   ],
   "source": [
    "data.columns"
   ]
  },
  {
   "cell_type": "code",
   "execution_count": 8,
   "metadata": {
    "collapsed": false
   },
   "outputs": [
    {
     "data": {
      "text/html": [
       "<div>\n",
       "<table border=\"1\" class=\"dataframe\">\n",
       "  <thead>\n",
       "    <tr style=\"text-align: right;\">\n",
       "      <th></th>\n",
       "      <th>code</th>\n",
       "      <th>url</th>\n",
       "      <th>creator</th>\n",
       "      <th>created_t</th>\n",
       "      <th>created_datetime</th>\n",
       "      <th>last_modified_t</th>\n",
       "      <th>last_modified_datetime</th>\n",
       "      <th>product_name</th>\n",
       "      <th>generic_name</th>\n",
       "      <th>quantity</th>\n",
       "      <th>...</th>\n",
       "      <th>caffeine_100g</th>\n",
       "      <th>taurine_100g</th>\n",
       "      <th>ph_100g</th>\n",
       "      <th>fruits-vegetables-nuts_100g</th>\n",
       "      <th>collagen-meat-protein-ratio_100g</th>\n",
       "      <th>cocoa_100g</th>\n",
       "      <th>chlorophyl_100g</th>\n",
       "      <th>carbon-footprint_100g</th>\n",
       "      <th>nutrition-score-fr_100g</th>\n",
       "      <th>nutrition-score-uk_100g</th>\n",
       "    </tr>\n",
       "  </thead>\n",
       "  <tbody>\n",
       "    <tr>\n",
       "      <th>0</th>\n",
       "      <td>0000000024600</td>\n",
       "      <td>http://world-en.openfoodfacts.org/product/0000...</td>\n",
       "      <td>date-limite-app</td>\n",
       "      <td>1434530704</td>\n",
       "      <td>2015-06-17T08:45:04Z</td>\n",
       "      <td>1434535914</td>\n",
       "      <td>2015-06-17T10:11:54Z</td>\n",
       "      <td>Filet de bœuf</td>\n",
       "      <td>NaN</td>\n",
       "      <td>2.46 kg</td>\n",
       "      <td>...</td>\n",
       "      <td>NaN</td>\n",
       "      <td>NaN</td>\n",
       "      <td>NaN</td>\n",
       "      <td>NaN</td>\n",
       "      <td>NaN</td>\n",
       "      <td>NaN</td>\n",
       "      <td>NaN</td>\n",
       "      <td>NaN</td>\n",
       "      <td>NaN</td>\n",
       "      <td>NaN</td>\n",
       "    </tr>\n",
       "    <tr>\n",
       "      <th>1</th>\n",
       "      <td>0000000027205</td>\n",
       "      <td>http://world-en.openfoodfacts.org/product/0000...</td>\n",
       "      <td>tacinte</td>\n",
       "      <td>1458238630</td>\n",
       "      <td>2016-03-17T18:17:10Z</td>\n",
       "      <td>1458238638</td>\n",
       "      <td>2016-03-17T18:17:18Z</td>\n",
       "      <td>NaN</td>\n",
       "      <td>NaN</td>\n",
       "      <td>NaN</td>\n",
       "      <td>...</td>\n",
       "      <td>NaN</td>\n",
       "      <td>NaN</td>\n",
       "      <td>NaN</td>\n",
       "      <td>NaN</td>\n",
       "      <td>NaN</td>\n",
       "      <td>NaN</td>\n",
       "      <td>NaN</td>\n",
       "      <td>NaN</td>\n",
       "      <td>NaN</td>\n",
       "      <td>NaN</td>\n",
       "    </tr>\n",
       "    <tr>\n",
       "      <th>2</th>\n",
       "      <td>0000000036252</td>\n",
       "      <td>http://world-en.openfoodfacts.org/product/0000...</td>\n",
       "      <td>tacinte</td>\n",
       "      <td>1422221701</td>\n",
       "      <td>2015-01-25T21:35:01Z</td>\n",
       "      <td>1422221855</td>\n",
       "      <td>2015-01-25T21:37:35Z</td>\n",
       "      <td>Lion Peanut x2</td>\n",
       "      <td>NaN</td>\n",
       "      <td>NaN</td>\n",
       "      <td>...</td>\n",
       "      <td>NaN</td>\n",
       "      <td>NaN</td>\n",
       "      <td>NaN</td>\n",
       "      <td>NaN</td>\n",
       "      <td>NaN</td>\n",
       "      <td>NaN</td>\n",
       "      <td>NaN</td>\n",
       "      <td>NaN</td>\n",
       "      <td>NaN</td>\n",
       "      <td>NaN</td>\n",
       "    </tr>\n",
       "    <tr>\n",
       "      <th>3</th>\n",
       "      <td>0000000039259</td>\n",
       "      <td>http://world-en.openfoodfacts.org/product/0000...</td>\n",
       "      <td>tacinte</td>\n",
       "      <td>1422221773</td>\n",
       "      <td>2015-01-25T21:36:13Z</td>\n",
       "      <td>1422221926</td>\n",
       "      <td>2015-01-25T21:38:46Z</td>\n",
       "      <td>Twix x2</td>\n",
       "      <td>NaN</td>\n",
       "      <td>NaN</td>\n",
       "      <td>...</td>\n",
       "      <td>NaN</td>\n",
       "      <td>NaN</td>\n",
       "      <td>NaN</td>\n",
       "      <td>NaN</td>\n",
       "      <td>NaN</td>\n",
       "      <td>NaN</td>\n",
       "      <td>NaN</td>\n",
       "      <td>NaN</td>\n",
       "      <td>NaN</td>\n",
       "      <td>NaN</td>\n",
       "    </tr>\n",
       "    <tr>\n",
       "      <th>4</th>\n",
       "      <td>0000000039529</td>\n",
       "      <td>http://world-en.openfoodfacts.org/product/0000...</td>\n",
       "      <td>teolemon</td>\n",
       "      <td>1420147051</td>\n",
       "      <td>2015-01-01T21:17:31Z</td>\n",
       "      <td>1439141740</td>\n",
       "      <td>2015-08-09T17:35:40Z</td>\n",
       "      <td>Pack de 2 Twix</td>\n",
       "      <td>NaN</td>\n",
       "      <td>NaN</td>\n",
       "      <td>...</td>\n",
       "      <td>NaN</td>\n",
       "      <td>NaN</td>\n",
       "      <td>NaN</td>\n",
       "      <td>NaN</td>\n",
       "      <td>NaN</td>\n",
       "      <td>NaN</td>\n",
       "      <td>NaN</td>\n",
       "      <td>NaN</td>\n",
       "      <td>NaN</td>\n",
       "      <td>NaN</td>\n",
       "    </tr>\n",
       "  </tbody>\n",
       "</table>\n",
       "<p>5 rows × 159 columns</p>\n",
       "</div>"
      ],
      "text/plain": [
       "            code                                                url  \\\n",
       "0  0000000024600  http://world-en.openfoodfacts.org/product/0000...   \n",
       "1  0000000027205  http://world-en.openfoodfacts.org/product/0000...   \n",
       "2  0000000036252  http://world-en.openfoodfacts.org/product/0000...   \n",
       "3  0000000039259  http://world-en.openfoodfacts.org/product/0000...   \n",
       "4  0000000039529  http://world-en.openfoodfacts.org/product/0000...   \n",
       "\n",
       "           creator   created_t      created_datetime last_modified_t  \\\n",
       "0  date-limite-app  1434530704  2015-06-17T08:45:04Z      1434535914   \n",
       "1          tacinte  1458238630  2016-03-17T18:17:10Z      1458238638   \n",
       "2          tacinte  1422221701  2015-01-25T21:35:01Z      1422221855   \n",
       "3          tacinte  1422221773  2015-01-25T21:36:13Z      1422221926   \n",
       "4         teolemon  1420147051  2015-01-01T21:17:31Z      1439141740   \n",
       "\n",
       "  last_modified_datetime    product_name generic_name quantity  \\\n",
       "0   2015-06-17T10:11:54Z   Filet de bœuf          NaN  2.46 kg   \n",
       "1   2016-03-17T18:17:18Z             NaN          NaN      NaN   \n",
       "2   2015-01-25T21:37:35Z  Lion Peanut x2          NaN      NaN   \n",
       "3   2015-01-25T21:38:46Z         Twix x2          NaN      NaN   \n",
       "4   2015-08-09T17:35:40Z  Pack de 2 Twix          NaN      NaN   \n",
       "\n",
       "            ...           caffeine_100g taurine_100g ph_100g  \\\n",
       "0           ...                     NaN          NaN     NaN   \n",
       "1           ...                     NaN          NaN     NaN   \n",
       "2           ...                     NaN          NaN     NaN   \n",
       "3           ...                     NaN          NaN     NaN   \n",
       "4           ...                     NaN          NaN     NaN   \n",
       "\n",
       "  fruits-vegetables-nuts_100g collagen-meat-protein-ratio_100g cocoa_100g  \\\n",
       "0                         NaN                              NaN        NaN   \n",
       "1                         NaN                              NaN        NaN   \n",
       "2                         NaN                              NaN        NaN   \n",
       "3                         NaN                              NaN        NaN   \n",
       "4                         NaN                              NaN        NaN   \n",
       "\n",
       "  chlorophyl_100g carbon-footprint_100g nutrition-score-fr_100g  \\\n",
       "0             NaN                   NaN                     NaN   \n",
       "1             NaN                   NaN                     NaN   \n",
       "2             NaN                   NaN                     NaN   \n",
       "3             NaN                   NaN                     NaN   \n",
       "4             NaN                   NaN                     NaN   \n",
       "\n",
       "  nutrition-score-uk_100g  \n",
       "0                     NaN  \n",
       "1                     NaN  \n",
       "2                     NaN  \n",
       "3                     NaN  \n",
       "4                     NaN  \n",
       "\n",
       "[5 rows x 159 columns]"
      ]
     },
     "execution_count": 8,
     "metadata": {},
     "output_type": "execute_result"
    }
   ],
   "source": [
    "data.head()"
   ]
  },
  {
   "cell_type": "code",
   "execution_count": 9,
   "metadata": {
    "collapsed": true
   },
   "outputs": [],
   "source": [
    "pd.options.display.max_columns = 20"
   ]
  },
  {
   "cell_type": "code",
   "execution_count": 10,
   "metadata": {
    "collapsed": true
   },
   "outputs": [],
   "source": [
    "nullCounts = data.isnull().sum()"
   ]
  },
  {
   "cell_type": "code",
   "execution_count": 11,
   "metadata": {
    "collapsed": false
   },
   "outputs": [
    {
     "data": {
      "text/plain": [
       "code                                   19\n",
       "url                                    19\n",
       "creator                                69\n",
       "created_t                               3\n",
       "created_datetime                        7\n",
       "last_modified_t                         0\n",
       "last_modified_datetime                  0\n",
       "product_name                         7977\n",
       "generic_name                        40925\n",
       "quantity                            13388\n",
       "packaging                           24114\n",
       "packaging_tags                      24114\n",
       "brands                              11286\n",
       "brands_tags                         11290\n",
       "categories                          21335\n",
       "categories_tags                     21352\n",
       "categories_en                       21334\n",
       "origins                             62698\n",
       "origins_tags                        62736\n",
       "manufacturing_places                54667\n",
       "manufacturing_places_tags           54674\n",
       "labels                              50806\n",
       "labels_tags                         50760\n",
       "labels_en                           50742\n",
       "emb_codes                           57462\n",
       "emb_codes_tags                      57466\n",
       "first_packaging_code_geo            65570\n",
       "cities                              79452\n",
       "cities_tags                         64353\n",
       "purchase_places                     37827\n",
       "                                    ...  \n",
       "vitamin-b9_100g                     78658\n",
       "vitamin-b12_100g                    78820\n",
       "biotin_100g                         79255\n",
       "pantothenic-acid_100g               79008\n",
       "silica_100g                         79438\n",
       "bicarbonate_100g                    79403\n",
       "potassium_100g                      78933\n",
       "chloride_100g                       79357\n",
       "calcium_100g                        76212\n",
       "phosphorus_100g                     78837\n",
       "iron_100g                           77426\n",
       "magnesium_100g                      78590\n",
       "zinc_100g                           79196\n",
       "copper_100g                         79362\n",
       "manganese_100g                      79373\n",
       "fluoride_100g                       79414\n",
       "selenium_100g                       79386\n",
       "chromium_100g                       79454\n",
       "molybdenum_100g                     79464\n",
       "iodine_100g                         79346\n",
       "caffeine_100g                       79431\n",
       "taurine_100g                        79453\n",
       "ph_100g                             79435\n",
       "fruits-vegetables-nuts_100g         78242\n",
       "collagen-meat-protein-ratio_100g    79345\n",
       "cocoa_100g                          78848\n",
       "chlorophyl_100g                     79470\n",
       "carbon-footprint_100g               79250\n",
       "nutrition-score-fr_100g             42217\n",
       "nutrition-score-uk_100g             42217\n",
       "dtype: int64"
      ]
     },
     "execution_count": 11,
     "metadata": {},
     "output_type": "execute_result"
    }
   ],
   "source": [
    "nullCounts"
   ]
  },
  {
   "cell_type": "code",
   "execution_count": 12,
   "metadata": {
    "collapsed": true
   },
   "outputs": [],
   "source": [
    "nullRowData = data.isnull().sum(axis=1).sort_values()"
   ]
  },
  {
   "cell_type": "code",
   "execution_count": 13,
   "metadata": {
    "collapsed": false
   },
   "outputs": [
    {
     "data": {
      "text/plain": [
       "15042     67\n",
       "14922     71\n",
       "66501     72\n",
       "55360     73\n",
       "48028     73\n",
       "53681     74\n",
       "14983     74\n",
       "66481     74\n",
       "38499     75\n",
       "34738     75\n",
       "66926     75\n",
       "14984     75\n",
       "34739     76\n",
       "14899     76\n",
       "39994     76\n",
       "42306     77\n",
       "34734     77\n",
       "23435     77\n",
       "39977     77\n",
       "23406     77\n",
       "66483     77\n",
       "39273     77\n",
       "39245     77\n",
       "51908     78\n",
       "15007     78\n",
       "55379     78\n",
       "66572     78\n",
       "19401     78\n",
       "23413     78\n",
       "2417      79\n",
       "        ... \n",
       "65766    150\n",
       "65609    150\n",
       "40717    150\n",
       "56678    150\n",
       "71854    150\n",
       "6752     150\n",
       "6663     150\n",
       "6660     150\n",
       "6659     150\n",
       "6606     150\n",
       "6611     150\n",
       "6613     150\n",
       "6621     150\n",
       "6631     150\n",
       "10419    150\n",
       "6641     150\n",
       "6642     150\n",
       "6643     150\n",
       "6644     150\n",
       "6645     150\n",
       "6646     150\n",
       "6650     150\n",
       "58907    150\n",
       "6651     150\n",
       "6652     150\n",
       "6653     150\n",
       "6657     150\n",
       "6658     150\n",
       "6604     150\n",
       "6722     150\n",
       "dtype: int64"
      ]
     },
     "execution_count": 13,
     "metadata": {},
     "output_type": "execute_result"
    }
   ],
   "source": [
    "nullRowData"
   ]
  },
  {
   "cell_type": "code",
   "execution_count": 14,
   "metadata": {
    "collapsed": false
   },
   "outputs": [],
   "source": [
    "nullRowDataIndexReset = nullRowData.reset_index(drop=True)"
   ]
  },
  {
   "cell_type": "code",
   "execution_count": 15,
   "metadata": {
    "collapsed": false
   },
   "outputs": [
    {
     "data": {
      "text/plain": [
       "0         67\n",
       "1         71\n",
       "2         72\n",
       "3         73\n",
       "4         73\n",
       "5         74\n",
       "6         74\n",
       "7         74\n",
       "8         75\n",
       "9         75\n",
       "10        75\n",
       "11        75\n",
       "12        76\n",
       "13        76\n",
       "14        76\n",
       "15        77\n",
       "16        77\n",
       "17        77\n",
       "18        77\n",
       "19        77\n",
       "20        77\n",
       "21        77\n",
       "22        77\n",
       "23        78\n",
       "24        78\n",
       "25        78\n",
       "26        78\n",
       "27        78\n",
       "28        78\n",
       "29        79\n",
       "        ... \n",
       "79440    150\n",
       "79441    150\n",
       "79442    150\n",
       "79443    150\n",
       "79444    150\n",
       "79445    150\n",
       "79446    150\n",
       "79447    150\n",
       "79448    150\n",
       "79449    150\n",
       "79450    150\n",
       "79451    150\n",
       "79452    150\n",
       "79453    150\n",
       "79454    150\n",
       "79455    150\n",
       "79456    150\n",
       "79457    150\n",
       "79458    150\n",
       "79459    150\n",
       "79460    150\n",
       "79461    150\n",
       "79462    150\n",
       "79463    150\n",
       "79464    150\n",
       "79465    150\n",
       "79466    150\n",
       "79467    150\n",
       "79468    150\n",
       "79469    150\n",
       "dtype: int64"
      ]
     },
     "execution_count": 15,
     "metadata": {},
     "output_type": "execute_result"
    }
   ],
   "source": [
    "nullRowDataIndexReset"
   ]
  },
  {
   "cell_type": "code",
   "execution_count": 16,
   "metadata": {
    "collapsed": false
   },
   "outputs": [
    {
     "data": {
      "text/plain": [
       "<matplotlib.axes._subplots.AxesSubplot at 0x12b0aff10>"
      ]
     },
     "execution_count": 16,
     "metadata": {},
     "output_type": "execute_result"
    },
    {
     "data": {
      "image/png": "[encoded data removed]",
      "text/plain": [
       "<matplotlib.figure.Figure at 0x12b0afd50>"
      ]
     },
     "metadata": {},
     "output_type": "display_data"
    }
   ],
   "source": [
    "nullRowDataIndexReset.plot()"
   ]
  },
  {
   "cell_type": "code",
   "execution_count": 17,
   "metadata": {
    "collapsed": true
   },
   "outputs": [],
   "source": [
    "nullsPerRow = data.isnull().sum(axis=1)"
   ]
  },
  {
   "cell_type": "code",
   "execution_count": 18,
   "metadata": {
    "collapsed": false
   },
   "outputs": [
    {
     "data": {
      "text/plain": [
       "0        133\n",
       "1        144\n",
       "2        140\n",
       "3        140\n",
       "4        139\n",
       "5        120\n",
       "6        123\n",
       "7        135\n",
       "8        119\n",
       "9        119\n",
       "10       141\n",
       "11       107\n",
       "12       107\n",
       "13       140\n",
       "14       109\n",
       "15       110\n",
       "16       111\n",
       "17       109\n",
       "18       122\n",
       "19       144\n",
       "20       124\n",
       "21       116\n",
       "22       134\n",
       "23       144\n",
       "24       144\n",
       "25       113\n",
       "26       113\n",
       "27       128\n",
       "28       136\n",
       "29       136\n",
       "        ... \n",
       "79440    144\n",
       "79441    125\n",
       "79442    144\n",
       "79443    140\n",
       "79444    139\n",
       "79445    144\n",
       "79446    133\n",
       "79447    140\n",
       "79448    144\n",
       "79449    144\n",
       "79450    146\n",
       "79451    140\n",
       "79452    144\n",
       "79453    142\n",
       "79454    143\n",
       "79455    140\n",
       "79456    140\n",
       "79457    123\n",
       "79458    128\n",
       "79459    113\n",
       "79460    123\n",
       "79461    118\n",
       "79462    140\n",
       "79463    144\n",
       "79464    120\n",
       "79465    127\n",
       "79466    110\n",
       "79467    143\n",
       "79468    126\n",
       "79469    132\n",
       "dtype: int64"
      ]
     },
     "execution_count": 18,
     "metadata": {},
     "output_type": "execute_result"
    }
   ],
   "source": [
    "nullsPerRow"
   ]
  },
  {
   "cell_type": "code",
   "execution_count": 19,
   "metadata": {
    "collapsed": false
   },
   "outputs": [],
   "source": [
    "dataMinusRows = data[nullsPerRow<120]"
   ]
  },
  {
   "cell_type": "code",
   "execution_count": 25,
   "metadata": {
    "collapsed": false
   },
   "outputs": [
    {
     "data": {
      "text/plain": [
       "(47586, 159)"
      ]
     },
     "execution_count": 25,
     "metadata": {},
     "output_type": "execute_result"
    }
   ],
   "source": [
    "dataMinusRows.shape"
   ]
  },
  {
   "cell_type": "code",
   "execution_count": 26,
   "metadata": {
    "collapsed": true
   },
   "outputs": [],
   "source": [
    "nullColumnData = dataMinusRows.isnull().sum(axis=0)"
   ]
  },
  {
   "cell_type": "code",
   "execution_count": 27,
   "metadata": {
    "collapsed": false
   },
   "outputs": [
    {
     "name": "stdout",
     "output_type": "stream",
     "text": [
      "(159,)\n",
      "code                          0\n",
      "url                           0\n",
      "creator                       1\n",
      "created_t                     1\n",
      "created_datetime              1\n",
      "last_modified_t               0\n",
      "last_modified_datetime        0\n",
      "product_name                161\n",
      "generic_name              12991\n",
      "quantity                    712\n",
      "packaging                  1504\n",
      "packaging_tags             1504\n",
      "brands                      299\n",
      "brands_tags                 299\n",
      "categories                  829\n",
      "dtype: int64\n"
     ]
    }
   ],
   "source": [
    "print nullColumnData.shape\n",
    "print nullColumnData[:15]"
   ]
  },
  {
   "cell_type": "code",
   "execution_count": 28,
   "metadata": {
    "collapsed": false
   },
   "outputs": [
    {
     "name": "stdout",
     "output_type": "stream",
     "text": [
      "(159,)\n",
      "code                                         0\n",
      "url                                          0\n",
      "last_modified_t                              0\n",
      "last_modified_datetime                       0\n",
      "states_tags                                  0\n",
      "states                                       0\n",
      "pnns_groups_2                                0\n",
      "states_en                                    0\n",
      "creator                                      1\n",
      "created_t                                    1\n",
      "created_datetime                             1\n",
      "countries_tags                              25\n",
      "countries_en                                25\n",
      "countries                                   25\n",
      "product_name                               161\n",
      "brands                                     299\n",
      "brands_tags                                299\n",
      "quantity                                   712\n",
      "image_url                                  788\n",
      "image_small_url                            788\n",
      "pnns_groups_1                              804\n",
      "main_category                              829\n",
      "main_category_en                           829\n",
      "categories                                 829\n",
      "categories_en                              829\n",
      "categories_tags                            829\n",
      "packaging                                 1504\n",
      "packaging_tags                            1504\n",
      "ingredients_from_palm_oil_n               1864\n",
      "additives_n                               1864\n",
      "                                         ...  \n",
      "nucleotides_100g                         47583\n",
      "lauric-acid_100g                         47584\n",
      "maltose_100g                             47584\n",
      "myristic-acid_100g                       47585\n",
      "arachidic-acid_100g                      47585\n",
      "gamma-linolenic-acid_100g                47585\n",
      "capric-acid_100g                         47585\n",
      "caprylic-acid_100g                       47585\n",
      "palmitic-acid_100g                       47585\n",
      "stearic-acid_100g                        47585\n",
      "chlorophyl_100g                          47586\n",
      "allergens_en                             47586\n",
      "ingredients_from_palm_oil                47586\n",
      "cities                                   47586\n",
      "nutrition_grade_uk                       47586\n",
      "butyric-acid_100g                        47586\n",
      "caproic-acid_100g                        47586\n",
      "behenic-acid_100g                        47586\n",
      "lignoceric-acid_100g                     47586\n",
      "cerotic-acid_100g                        47586\n",
      "melissic-acid_100g                       47586\n",
      "dihomo-gamma-linolenic-acid_100g         47586\n",
      "elaidic-acid_100g                        47586\n",
      "gondoic-acid_100g                        47586\n",
      "mead-acid_100g                           47586\n",
      "erucic-acid_100g                         47586\n",
      "nervonic-acid_100g                       47586\n",
      "ingredients_that_may_be_from_palm_oil    47586\n",
      "no_nutriments                            47586\n",
      "montanic-acid_100g                       47586\n",
      "dtype: int64\n"
     ]
    }
   ],
   "source": [
    "nullColumnDataSorted = nullColumnData.sort_values()\n",
    "print nullColumnDataSorted.shape\n",
    "print nullColumnDataSorted"
   ]
  },
  {
   "cell_type": "code",
   "execution_count": 29,
   "metadata": {
    "collapsed": false
   },
   "outputs": [
    {
     "data": {
      "text/plain": [
       "<matplotlib.axes._subplots.AxesSubplot at 0x12b0af050>"
      ]
     },
     "execution_count": 29,
     "metadata": {},
     "output_type": "execute_result"
    },
    {
     "data": {
      "image/png": "[encoded data removed]",
      "text/plain": [
       "<matplotlib.figure.Figure at 0x117039990>"
      ]
     },
     "metadata": {},
     "output_type": "display_data"
    }
   ],
   "source": [
    "nullColumnDataSorted.plot()"
   ]
  },
  {
   "cell_type": "code",
   "execution_count": 30,
   "metadata": {
    "collapsed": false
   },
   "outputs": [],
   "source": [
    "dataMinusRowsAndColumns = dataMinusRows.T[nullColumnData <30000].T"
   ]
  },
  {
   "cell_type": "code",
   "execution_count": 31,
   "metadata": {
    "collapsed": false
   },
   "outputs": [
    {
     "data": {
      "text/plain": [
       "(47586, 58)"
      ]
     },
     "execution_count": 31,
     "metadata": {},
     "output_type": "execute_result"
    }
   ],
   "source": [
    "dataMinusRowsAndColumns.shape"
   ]
  },
  {
   "cell_type": "markdown",
   "metadata": {
    "collapsed": true
   },
   "source": [
    "## Predict Countries that Food is produced in"
   ]
  },
  {
   "cell_type": "markdown",
   "metadata": {},
   "source": [
    "First, look examine the countries field to get a sense for the data"
   ]
  },
  {
   "cell_type": "code",
   "execution_count": 65,
   "metadata": {
    "collapsed": false
   },
   "outputs": [
    {
     "data": {
      "text/plain": [
       "8                       France\n",
       "9               United Kingdom\n",
       "11                 Royaume-Uni\n",
       "12              United Kingdom\n",
       "14                      France\n",
       "15              United Kingdom\n",
       "16                      España\n",
       "17                      France\n",
       "21                      France\n",
       "25                     Germany\n",
       "26                     Germany\n",
       "33                      France\n",
       "49       France,United Kingdom\n",
       "51                      France\n",
       "55                      France\n",
       "73                  États-Unis\n",
       "74          Royaume-Uni,France\n",
       "86                      France\n",
       "90              United Kingdom\n",
       "93               United States\n",
       "111             United Kingdom\n",
       "112             United Kingdom\n",
       "114              United States\n",
       "115             United Kingdom\n",
       "117                     France\n",
       "125              United States\n",
       "126              United States\n",
       "127                     France\n",
       "132             United Kingdom\n",
       "134                     France\n",
       "                 ...          \n",
       "79379              New Zealand\n",
       "79381                   France\n",
       "79382                   France\n",
       "79385                   France\n",
       "79386                   France\n",
       "79387                   France\n",
       "79388                   France\n",
       "79389                   France\n",
       "79390                   France\n",
       "79392                   France\n",
       "79394                   France\n",
       "79395                   France\n",
       "79396                   France\n",
       "79397                   France\n",
       "79399                   France\n",
       "79400                   France\n",
       "79401                   France\n",
       "79405                Australia\n",
       "79409                   France\n",
       "79410                   France\n",
       "79411                   France\n",
       "79412                   France\n",
       "79414          Hong Kong,China\n",
       "79428                   France\n",
       "79430           United Kingdom\n",
       "79432           United Kingdom\n",
       "79433           United Kingdom\n",
       "79459                   France\n",
       "79461                   France\n",
       "79466                   France\n",
       "Name: countries, dtype: object"
      ]
     },
     "execution_count": 65,
     "metadata": {},
     "output_type": "execute_result"
    }
   ],
   "source": [
    "dataMinusRowsAndColumns.countries"
   ]
  },
  {
   "cell_type": "code",
   "execution_count": 39,
   "metadata": {
    "collapsed": false
   },
   "outputs": [
    {
     "data": {
      "text/plain": [
       "1351"
      ]
     },
     "execution_count": 39,
     "metadata": {},
     "output_type": "execute_result"
    }
   ],
   "source": [
    "producedInMultipleCountries = np.sum(dataMinusRowsAndColumns.countries_en.str.contains(\",\"))\n",
    "producedInMultipleCountries"
   ]
  },
  {
   "cell_type": "code",
   "execution_count": 47,
   "metadata": {
    "collapsed": false
   },
   "outputs": [],
   "source": [
    "producedInCountriesCount = dataMinusRowsAndColumns.countries_en.str.count(\",\")\n",
    "sortedProducedInCountriesCount = producedInCountriesCount.sort_values().reset_index(drop=True)"
   ]
  },
  {
   "cell_type": "code",
   "execution_count": 48,
   "metadata": {
    "collapsed": false
   },
   "outputs": [
    {
     "data": {
      "text/plain": [
       "<matplotlib.axes._subplots.AxesSubplot at 0x12b0cf850>"
      ]
     },
     "execution_count": 48,
     "metadata": {},
     "output_type": "execute_result"
    },
    {
     "data": {
      "image/png": "[encoded data removed]",
      "text/plain": [
       "<matplotlib.figure.Figure at 0x11cf65510>"
      ]
     },
     "metadata": {},
     "output_type": "display_data"
    }
   ],
   "source": [
    "sortedProducedInCountriesCount.plot()"
   ]
  },
  {
   "cell_type": "markdown",
   "metadata": {},
   "source": [
    "Some foods are produced in multiple countries. You can see in the graph above, that this is true for a small percentage of the data. For simplicity, we will remove these rows from our analysis."
   ]
  },
  {
   "cell_type": "code",
   "execution_count": 62,
   "metadata": {
    "collapsed": false
   },
   "outputs": [
    {
     "name": "stdout",
     "output_type": "stream",
     "text": [
      "(47586,)\n",
      "8     True\n",
      "9     True\n",
      "11    True\n",
      "12    True\n",
      "14    True\n",
      "Name: countries_en, dtype: bool\n"
     ]
    }
   ],
   "source": [
    "producedInOneCountry = dataMinusRowsAndColumns.countries_en.str.contains(\",\") == False\n",
    "print producedInOneCountry.shape\n",
    "print producedInOneCountry.head()"
   ]
  },
  {
   "cell_type": "code",
   "execution_count": 64,
   "metadata": {
    "collapsed": false
   },
   "outputs": [
    {
     "name": "stdout",
     "output_type": "stream",
     "text": [
      "(46210, 58)\n"
     ]
    }
   ],
   "source": [
    "singleCountryData = dataMinusRowsAndColumns[producedInOneCountry]\n",
    "print singleCountryData.shape"
   ]
  },
  {
   "cell_type": "markdown",
   "metadata": {},
   "source": [
    "### Rocchio Method"
   ]
  },
  {
   "cell_type": "code",
   "execution_count": 80,
   "metadata": {
    "collapsed": false
   },
   "outputs": [
    {
     "data": {
      "text/plain": [
       "0"
      ]
     },
     "execution_count": 80,
     "metadata": {},
     "output_type": "execute_result"
    }
   ],
   "source": [
    "#Show that all rows in the data have a value for the country\n",
    "np.sum(singleCountryData.countries_en.isnull())"
   ]
  },
  {
   "cell_type": "code",
   "execution_count": 74,
   "metadata": {
    "collapsed": false
   },
   "outputs": [
    {
     "name": "stdout",
     "output_type": "stream",
     "text": [
      "(46210, 57)\n"
     ]
    }
   ],
   "source": [
    "collist = singleCountryData.columns.tolist()\n",
    "collist.remove('countries_en')\n",
    "countriesRecords = singleCountryData[collist]\n",
    "print countriesRecords.shape"
   ]
  },
  {
   "cell_type": "code",
   "execution_count": 68,
   "metadata": {
    "collapsed": false
   },
   "outputs": [
    {
     "name": "stdout",
     "output_type": "stream",
     "text": [
      "(46210,)\n",
      "8             France\n",
      "9     United Kingdom\n",
      "11       Royaume-Uni\n",
      "12    United Kingdom\n",
      "14            France\n",
      "Name: countries, dtype: object\n"
     ]
    }
   ],
   "source": [
    "countriesTarget = singleCountryData.countries\n",
    "print countriesTarget.shape\n",
    "print countriesTarget.head()"
   ]
  },
  {
   "cell_type": "code",
   "execution_count": 75,
   "metadata": {
    "collapsed": true
   },
   "outputs": [],
   "source": [
    "x_train, x_test, y_train, y_test = train_test_split(countriesRecords, countriesTarget, test_size=0.2, random_state=33)"
   ]
  },
  {
   "cell_type": "code",
   "execution_count": 81,
   "metadata": {
    "collapsed": false
   },
   "outputs": [
    {
     "data": {
      "text/plain": [
       "array(['France', 'Deutschland', 'Italia', 'Espa\\xc3\\xb1a', 'Switzerland',\n",
       "       '\\xc3\\x96sterreich', 'Australia', 'United States', 'Belgique',\n",
       "       'United Kingdom', 'Spain', 'Germany', 'Portugal',\n",
       "       'S\\xc3\\xa9n\\xc3\\xa9gal', 'Regno Unito', 'Suisse', 'Italy',\n",
       "       'La R\\xc3\\xa9union', 'South Africa', 'en:spain', 'Hong Kong',\n",
       "       'Netherlands', 'Pays-Bas', 'Nederland', 'New Zealand', 'Tunisie',\n",
       "       'Guadeloupe', 'Israel', 'Thailand', 'Brasil', 'Colombia', 'Cuba',\n",
       "       'Romania', 'Indonesia', 'Belgium',\n",
       "       '\\xeb\\x8c\\x80\\xed\\x95\\x9c\\xeb\\xaf\\xbc\\xea\\xb5\\xad', 'Danemark',\n",
       "       'Poland', 'Luxembourg',\n",
       "       '\\xd0\\xa0\\xd0\\xbe\\xd1\\x81\\xd1\\x81\\xd0\\xb8\\xd1\\x8f',\n",
       "       \"C\\xc3\\xb4te d'Ivoire\", 'Saint-Pierre-et-Miquelon', 'Canada',\n",
       "       'Cambodia', 'Royaume-Uni', 'United Arab Emirates', 'Czech Republic',\n",
       "       'Rom\\xc3\\xa2nia', 'en:brazil', 'Polska', 'Allemagne', 'USA',\n",
       "       'Slovenia', 'Lituanie', 'Qu\\xc3\\xa9bec', 'P\\xc3\\xa9rou', 'Mexico',\n",
       "       'Italie', 'M\\xc3\\xa9xico', 'India', 'Danmark', 'Guyane', 'Turkey',\n",
       "       'Tunisia', 'Italien', 'Sweden', 'Saint Pierre and Miquelon',\n",
       "       'Frankreich', 'Hungary', 'Denmark', '\\xc3\\x89tats-Unis',\n",
       "       '\\xe6\\x97\\xa5\\xe6\\x9c\\xac', 'Kenya',\n",
       "       '\\xce\\x95\\xce\\xbb\\xce\\xbb\\xce\\xac\\xce\\xb4\\xce\\xb1', 'Slovakia',\n",
       "       'Espagne', 'Austria', 'R\\xc3\\xa9publique Tch\\xc3\\xa8que',\n",
       "       '\\xd8\\xaa\\xd9\\x88\\xd9\\x86\\xd8\\xb3', 'Argentina',\n",
       "       'Deutschland,Germany', 'R\\xc3\\xa9union', 'Alg\\xc3\\xa9rie',\n",
       "       'Singapore', 'Turquie', 'fr:Qu\\xc3\\xa9bec', 'Ireland', 'Finland',\n",
       "       'Norway', 'Maurice', 'Belgi\\xc3\\xab', 'Etats-Unis',\n",
       "       'Germany,Deutschland',\n",
       "       '\\xe0\\xb8\\x9b\\xe0\\xb8\\xa3\\xe0\\xb8\\xb0\\xe0\\xb9\\x80\\xe0\\xb8\\x97\\xe0\\xb8\\xa8\\xe0\\xb9\\x84\\xe0\\xb8\\x97\\xe0\\xb8\\xa2',\n",
       "       'United states', 'Francia', 'Belgica', 'Bulgaria', 'france',\n",
       "       'China', 'Philippines', 'Venezuela', 'Nouvelle-Cal\\xc3\\xa9donie',\n",
       "       'belgium', '\\xe9\\xa6\\x99\\xe6\\xb8\\xaf', 'Francja', 'Svizzera',\n",
       "       'italia', 'Russia', 'Lebanon', 'Australie', 'Brazil',\n",
       "       'Rom\\xc3\\xa2nia,Romania', 'D\\xc3\\xa4nemark',\n",
       "       '\\xd7\\x99\\xd7\\xa9\\xd7\\xa8\\xd7\\x90\\xd7\\x9c', 'Republic of Ireland',\n",
       "       'French Polynesia', 'Per\\xc3\\xba', 'Qatar', 'Martinique',\n",
       "       'Burkina Faso', 'en:france', 'Togo', 'Aruba', 'Republic of China',\n",
       "       'European Union', 'Chine', 'Frankrijk', 'Schweiz', 'United-Kingdom',\n",
       "       'Polyn\\xc3\\xa9sie fran\\xc3\\xa7aise', 'Irlande',\n",
       "       'R\\xc3\\xa9publique tch\\xc3\\xa8que', 'Vereinigtes K\\xc3\\xb6nigreich',\n",
       "       'Malta', 'Virgin Islands of the United States'], dtype=object)"
      ]
     },
     "execution_count": 81,
     "metadata": {},
     "output_type": "execute_result"
    }
   ],
   "source": [
    "y_train.unique()"
   ]
  },
  {
   "cell_type": "code",
   "execution_count": null,
   "metadata": {
    "collapsed": true
   },
   "outputs": [],
   "source": []
  }
 ],
 "metadata": {
  "kernelspec": {
   "display_name": "Python 2",
   "language": "python",
   "name": "python2"
  },
  "language_info": {
   "codemirror_mode": {
    "name": "ipython",
    "version": 2
   },
   "file_extension": ".py",
   "mimetype": "text/x-python",
   "name": "python",
   "nbconvert_exporter": "python",
   "pygments_lexer": "ipython2",
   "version": "2.7.11"
  }
 },
 "nbformat": 4,
 "nbformat_minor": 0
}
