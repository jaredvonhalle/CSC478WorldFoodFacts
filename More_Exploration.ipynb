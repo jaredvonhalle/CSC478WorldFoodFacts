{
 "cells": [
  {
   "cell_type": "code",
   "execution_count": 1,
   "metadata": {
    "collapsed": true
   },
   "outputs": [],
   "source": [
    "import numpy as np\n",
    "import pandas as pd\n",
    "import utilities as utils\n",
    "import matplotlib.pyplot as plt\n",
    "%matplotlib inline\n",
    "\n",
    "import pylab as pl\n",
    "from sklearn.cluster import KMeans \n",
    "from sklearn.metrics import completeness_score, homogeneity_score"
   ]
  },
  {
   "cell_type": "code",
   "execution_count": 2,
   "metadata": {
    "collapsed": false
   },
   "outputs": [
    {
     "name": "stderr",
     "output_type": "stream",
     "text": [
      "/Applications/anaconda/lib/python2.7/site-packages/IPython/core/interactiveshell.py:2723: DtypeWarning: Columns (0,3,5,27,36) have mixed types. Specify dtype option on import or set low_memory=False.\n",
      "  interactivity=interactivity, compiler=compiler, result=result)\n"
     ]
    }
   ],
   "source": [
    "data = pd.read_csv(\"world-food-facts/FoodFacts.csv\")"
   ]
  },
  {
   "cell_type": "code",
   "execution_count": 3,
   "metadata": {
    "collapsed": false
   },
   "outputs": [],
   "source": [
    "data = data[data.main_category_en.notnull()]"
   ]
  },
  {
   "cell_type": "code",
   "execution_count": 4,
   "metadata": {
    "collapsed": false
   },
   "outputs": [],
   "source": [
    "more_than = data.main_category_en.value_counts() > 1000"
   ]
  },
  {
   "cell_type": "code",
   "execution_count": 5,
   "metadata": {
    "collapsed": false
   },
   "outputs": [
    {
     "data": {
      "text/plain": [
       "Index([u'Plant-based foods and beverages', u'Sugary snacks', u'Beverages',\n",
       "       u'Dairies', u'Groceries', u'Fresh foods', u'Meats', u'Meals',\n",
       "       u'Canned foods', u'Salty snacks', u'Frozen foods', u'Fruit juices'],\n",
       "      dtype='object')"
      ]
     },
     "execution_count": 5,
     "metadata": {},
     "output_type": "execute_result"
    }
   ],
   "source": [
    "more_than = more_than.index[more_than == True]\n",
    "more_than"
   ]
  },
  {
   "cell_type": "code",
   "execution_count": 6,
   "metadata": {
    "collapsed": false
   },
   "outputs": [
    {
     "name": "stdout",
     "output_type": "stream",
     "text": [
      "(40222, 159)\n",
      "Plant-based foods and beverages    11005\n",
      "Sugary snacks                       5926\n",
      "Beverages                           5503\n",
      "Dairies                             3394\n",
      "Groceries                           3185\n",
      "Fresh foods                         2904\n",
      "Meats                               2196\n",
      "Meals                               1353\n",
      "Canned foods                        1319\n",
      "Salty snacks                        1202\n",
      "Frozen foods                        1138\n",
      "Fruit juices                        1097\n",
      "Name: main_category_en, dtype: int64\n"
     ]
    }
   ],
   "source": [
    "data = data[data.main_category_en.isin(more_than)]\n",
    "print data.shape\n",
    "print data.main_category_en.value_counts()"
   ]
  },
  {
   "cell_type": "code",
   "execution_count": 7,
   "metadata": {
    "collapsed": false
   },
   "outputs": [
    {
     "data": {
      "text/plain": [
       "(40222,)"
      ]
     },
     "execution_count": 7,
     "metadata": {},
     "output_type": "execute_result"
    }
   ],
   "source": [
    "target = data.main_category_en\n",
    "target.shape"
   ]
  },
  {
   "cell_type": "code",
   "execution_count": 8,
   "metadata": {
    "collapsed": false
   },
   "outputs": [
    {
     "data": {
      "text/plain": [
       "(40222, 94)"
      ]
     },
     "execution_count": 8,
     "metadata": {},
     "output_type": "execute_result"
    }
   ],
   "source": [
    "nutriment_cols = [col for col in data.columns if '_100g' in col and not 'score' in col]\n",
    "data = data[nutriment_cols]\n",
    "data = data.fillna(0) #fill nulls with 0 for now\n",
    "data.shape"
   ]
  },
  {
   "cell_type": "code",
   "execution_count": 9,
   "metadata": {
    "collapsed": true
   },
   "outputs": [],
   "source": [
    "km = KMeans(n_clusters=12, max_iter=500, n_init=20, init='k-means++') # initialization"
   ]
  },
  {
   "cell_type": "code",
   "execution_count": 10,
   "metadata": {
    "collapsed": false
   },
   "outputs": [
    {
     "data": {
      "text/plain": [
       "KMeans(copy_x=True, init='k-means++', max_iter=500, n_clusters=12, n_init=20,\n",
       "    n_jobs=1, precompute_distances='auto', random_state=None, tol=0.0001,\n",
       "    verbose=0)"
      ]
     },
     "execution_count": 10,
     "metadata": {},
     "output_type": "execute_result"
    }
   ],
   "source": [
    "km.fit(data)"
   ]
  },
  {
   "cell_type": "code",
   "execution_count": 11,
   "metadata": {
    "collapsed": false
   },
   "outputs": [
    {
     "name": "stdout",
     "output_type": "stream",
     "text": [
      "[[  8.26667349e+00   1.02590634e-02   7.65517391e-01 ...,   1.05694796e-01\n",
      "    0.00000000e+00   6.49551621e-01]\n",
      " [  1.89356612e+03   1.92626914e+00   2.16426712e+01 ...,   5.66478646e-01\n",
      "    0.00000000e+00   1.61039484e+00]\n",
      " [  7.73744382e+02   3.16816327e+00   9.02500301e+00 ...,  -1.93178806e-14\n",
      "    0.00000000e+00   2.33001855e+00]\n",
      " ..., \n",
      " [  1.11561241e+03   3.05276276e+00   1.35675673e+01 ...,  -2.03170814e-14\n",
      "    0.00000000e+00   2.11951952e+00]\n",
      " [  3.58976635e+03   7.91666667e-01   9.42126189e+01 ...,   1.77635684e-15\n",
      "    0.00000000e+00   1.36538462e+00]\n",
      " [  2.76527778e+03   2.40444444e+03   6.42611111e+01 ...,   3.33066907e-16\n",
      "    0.00000000e+00   4.44089210e-16]]\n"
     ]
    }
   ],
   "source": [
    "print km.cluster_centers_"
   ]
  },
  {
   "cell_type": "code",
   "execution_count": 12,
   "metadata": {
    "collapsed": true
   },
   "outputs": [],
   "source": [
    "c = km.predict(data)"
   ]
  },
  {
   "cell_type": "code",
   "execution_count": 13,
   "metadata": {
    "collapsed": false
   },
   "outputs": [
    {
     "data": {
      "text/plain": [
       "array([13047,  2479,  2695,   664,  2826,  5454,  4783,   170,  4426,\n",
       "        3330,   312,    36])"
      ]
     },
     "execution_count": 13,
     "metadata": {},
     "output_type": "execute_result"
    }
   ],
   "source": [
    "np.bincount(c)"
   ]
  },
  {
   "cell_type": "code",
   "execution_count": 14,
   "metadata": {
    "collapsed": false
   },
   "outputs": [
    {
     "data": {
      "text/plain": [
       "array(['Plant-based foods and beverages', 'Beverages', 'Sugary snacks',\n",
       "       'Groceries', 'Meats', 'Meals', 'Dairies', 'Salty snacks',\n",
       "       'Frozen foods', 'Fruit juices', 'Canned foods', 'Fresh foods'], dtype=object)"
      ]
     },
     "execution_count": 14,
     "metadata": {},
     "output_type": "execute_result"
    }
   ],
   "source": [
    "target.unique()"
   ]
  },
  {
   "cell_type": "code",
   "execution_count": 15,
   "metadata": {
    "collapsed": false
   },
   "outputs": [
    {
     "name": "stderr",
     "output_type": "stream",
     "text": [
      "/Applications/anaconda/lib/python2.7/site-packages/pandas/core/indexing.py:128: SettingWithCopyWarning: \n",
      "A value is trying to be set on a copy of a slice from a DataFrame\n",
      "\n",
      "See the caveats in the documentation: http://pandas.pydata.org/pandas-docs/stable/indexing.html#indexing-view-versus-copy\n",
      "  self._setitem_with_indexer(indexer, value)\n"
     ]
    }
   ],
   "source": [
    "target.loc[target == 'Plant-based foods and beverages'] = 0\n",
    "target.loc[target == 'Beverages'] = 1\n",
    "target.loc[target == 'Sugary snacks'] = 2\n",
    "target.loc[target == 'Groceries'] = 3\n",
    "target.loc[target == 'Meats'] = 4\n",
    "target.loc[target == 'Meals'] = 5\n",
    "target.loc[target == 'Dairies'] = 6\n",
    "target.loc[target == 'Salty snacks'] = 7\n",
    "target.loc[target == 'Frozen foods'] = 8\n",
    "target.loc[target == 'Fruit juices'] = 9\n",
    "target.loc[target == 'Canned foods'] = 10\n",
    "target.loc[target == 'Fresh foods'] = 11\n",
    "t = target.as_matrix()\n",
    "t = t.astype(int)"
   ]
  },
  {
   "cell_type": "code",
   "execution_count": 23,
   "metadata": {
    "collapsed": false
   },
   "outputs": [
    {
     "name": "stdout",
     "output_type": "stream",
     "text": [
      "0.192688190744\n"
     ]
    }
   ],
   "source": [
    "print completeness_score(t,c)"
   ]
  },
  {
   "cell_type": "code",
   "execution_count": 24,
   "metadata": {
    "collapsed": false
   },
   "outputs": [
    {
     "name": "stdout",
     "output_type": "stream",
     "text": [
      "0.17652198907\n"
     ]
    }
   ],
   "source": [
    "print homogeneity_score(t,c)"
   ]
  },
  {
   "cell_type": "code",
   "execution_count": 18,
   "metadata": {
    "collapsed": false
   },
   "outputs": [
    {
     "name": "stdout",
     "output_type": "stream",
     "text": [
      "[0 0 1 ..., 1 4 7]\n",
      "[11005  5503  5926  3185  2196  1353  3394  1202  1138  1097  1319  2904]\n"
     ]
    }
   ],
   "source": [
    "print t\n",
    "print np.bincount(t)"
   ]
  },
  {
   "cell_type": "code",
   "execution_count": 19,
   "metadata": {
    "collapsed": false
   },
   "outputs": [
    {
     "name": "stdout",
     "output_type": "stream",
     "text": [
      "[0 0 0 ..., 0 0 0]\n",
      "[13047  2479  2695   664  2826  5454  4783   170  4426  3330   312    36]\n"
     ]
    }
   ],
   "source": [
    "print c\n",
    "print np.bincount(c)"
   ]
  },
  {
   "cell_type": "code",
   "execution_count": null,
   "metadata": {
    "collapsed": true
   },
   "outputs": [],
   "source": []
  }
 ],
 "metadata": {
  "kernelspec": {
   "display_name": "Python 2",
   "language": "python",
   "name": "python2"
  },
  "language_info": {
   "codemirror_mode": {
    "name": "ipython",
    "version": 2
   },
   "file_extension": ".py",
   "mimetype": "text/x-python",
   "name": "python",
   "nbconvert_exporter": "python",
   "pygments_lexer": "ipython2",
   "version": "2.7.11"
  }
 },
 "nbformat": 4,
 "nbformat_minor": 0
}
